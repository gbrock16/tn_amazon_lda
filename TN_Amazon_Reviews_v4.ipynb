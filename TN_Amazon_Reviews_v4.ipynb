{
 "cells": [
  {
   "cell_type": "markdown",
   "metadata": {},
   "source": [
    "## Import Libraries"
   ]
  },
  {
   "cell_type": "code",
   "execution_count": 1,
   "metadata": {
    "collapsed": false
   },
   "outputs": [],
   "source": [
    "import pandas as pd\n",
    "import numpy as np\n",
    "from bs4 import BeautifulSoup\n",
    "import urllib2\n",
    "import os\n",
    "import re\n",
    "import string\n",
    "import nltk\n",
    "from nltk.tokenize import RegexpTokenizer\n",
    "from nltk.tokenize import word_tokenize\n",
    "from nltk.corpus import stopwords\n",
    "from nltk import bigrams\n",
    "from collections import Counter\n",
    "from collections import defaultdict"
   ]
  },
  {
   "cell_type": "code",
   "execution_count": 2,
   "metadata": {
    "collapsed": false
   },
   "outputs": [],
   "source": [
    "from gensim.corpora import Dictionary\n",
    "from gensim.models.lsimodel import LsiModel\n",
    "from gensim.models.ldamodel import LdaModel\n",
    "from gensim.models.tfidfmodel import TfidfModel\n",
    "from gensim import corpora\n",
    "from gensim import similarities"
   ]
  },
  {
   "cell_type": "code",
   "execution_count": null,
   "metadata": {
    "collapsed": true
   },
   "outputs": [],
   "source": [
    "from ast import literal_eval"
   ]
  },
  {
   "cell_type": "code",
   "execution_count": 3,
   "metadata": {
    "collapsed": false
   },
   "outputs": [],
   "source": [
    "import pyLDAvis.gensim as gensimvis\n",
    "import pyLDAvis"
   ]
  },
  {
   "cell_type": "code",
   "execution_count": 5,
   "metadata": {
    "collapsed": true
   },
   "outputs": [
    {
     "name": "stderr",
     "output_type": "stream",
     "text": [
      "//anaconda/lib/python2.7/site-packages/ipykernel/pylab/config.py:66: DeprecationWarning: metadata {'config': True} was set from the constructor.  Metadata should be set using the .tag() method, e.g., Int().tag(key1='value1', key2='value2')\n",
      "  inline backend.\"\"\"\n",
      "//anaconda/lib/python2.7/site-packages/ipykernel/pylab/config.py:71: DeprecationWarning: metadata {'config': True} was set from the constructor.  Metadata should be set using the .tag() method, e.g., Int().tag(key1='value1', key2='value2')\n",
      "  'retina', 'jpeg', 'svg', 'pdf'.\"\"\")\n",
      "//anaconda/lib/python2.7/site-packages/ipykernel/pylab/config.py:85: DeprecationWarning: metadata {'config': True} was set from the constructor.  Metadata should be set using the .tag() method, e.g., Int().tag(key1='value1', key2='value2')\n",
      "  use `figure_formats` instead)\"\"\")\n",
      "//anaconda/lib/python2.7/site-packages/ipykernel/pylab/config.py:95: DeprecationWarning: metadata {'config': True} was set from the constructor.  Metadata should be set using the .tag() method, e.g., Int().tag(key1='value1', key2='value2')\n",
      "  \"\"\"\n",
      "//anaconda/lib/python2.7/site-packages/ipykernel/pylab/config.py:114: DeprecationWarning: metadata {'config': True} was set from the constructor.  Metadata should be set using the .tag() method, e.g., Int().tag(key1='value1', key2='value2')\n",
      "  \"\"\")\n",
      "//anaconda/lib/python2.7/site-packages/ipykernel/pylab/config.py:44: DeprecationWarning: InlineBackend._config_changed is deprecated: use @observe and @unobserve instead.\n",
      "  def _config_changed(self, name, old, new):\n",
      "//anaconda/lib/python2.7/site-packages/traitlets/traitlets.py:770: DeprecationWarning: A parent of InlineBackend._config_changed has adopted the new @observe(change) API\n",
      "  clsname, change_or_name), DeprecationWarning)\n",
      "//anaconda/lib/python2.7/site-packages/IPython/core/formatters.py:98: DeprecationWarning: DisplayFormatter._formatters_default is deprecated: use @default decorator instead.\n",
      "  def _formatters_default(self):\n",
      "//anaconda/lib/python2.7/site-packages/IPython/core/formatters.py:677: DeprecationWarning: PlainTextFormatter._deferred_printers_default is deprecated: use @default decorator instead.\n",
      "  def _deferred_printers_default(self):\n",
      "//anaconda/lib/python2.7/site-packages/IPython/core/formatters.py:669: DeprecationWarning: PlainTextFormatter._singleton_printers_default is deprecated: use @default decorator instead.\n",
      "  def _singleton_printers_default(self):\n",
      "//anaconda/lib/python2.7/site-packages/IPython/core/formatters.py:672: DeprecationWarning: PlainTextFormatter._type_printers_default is deprecated: use @default decorator instead.\n",
      "  def _type_printers_default(self):\n",
      "//anaconda/lib/python2.7/site-packages/IPython/core/formatters.py:672: DeprecationWarning: PlainTextFormatter._type_printers_default is deprecated: use @default decorator instead.\n",
      "  def _type_printers_default(self):\n",
      "//anaconda/lib/python2.7/site-packages/IPython/core/formatters.py:677: DeprecationWarning: PlainTextFormatter._deferred_printers_default is deprecated: use @default decorator instead.\n",
      "  def _deferred_printers_default(self):\n"
     ]
    }
   ],
   "source": [
    "import matplotlib.pyplot as plt\n",
    "%matplotlib inline"
   ]
  },
  {
   "cell_type": "code",
   "execution_count": 6,
   "metadata": {
    "collapsed": false
   },
   "outputs": [],
   "source": [
    "import seaborn as sns\n",
    "sns.set(color_codes=True)"
   ]
  },
  {
   "cell_type": "markdown",
   "metadata": {},
   "source": [
    "## Create Functions"
   ]
  },
  {
   "cell_type": "code",
   "execution_count": 9,
   "metadata": {
    "collapsed": true
   },
   "outputs": [],
   "source": [
    "def get_review_data(num_stars):\n",
    "    \n",
    "    review = []\n",
    "    sizes = []\n",
    "    dates = []\n",
    "    styles = []\n",
    "    \n",
    "    for subdir, dirs, files in os.walk(\"/Users/GBrock/Documents/Personal_Projects\"):\n",
    "        if \"Star\" in subdir:\n",
    "            for fle in files:\n",
    "                if \"TN\" and num_stars in fle:\n",
    "                    path = os.path.join(subdir, fle)\n",
    "                    soup = BeautifulSoup(open(path))\n",
    "                    \n",
    "                    for tag in soup.find_all('span', class_='a-size-base review-text'):\n",
    "                        review.append(tag.contents)\n",
    "                        \n",
    "                    for tag in soup.find_all('a', class_='a-size-mini a-link-normal a-color-secondary'):\n",
    "                        sizes.append(tag.contents)\n",
    "                        \n",
    "                    for tag in soup.find_all('span', class_='a-size-base a-color-secondary review-date'):\n",
    "                        dates.append(tag.contents)\n",
    "                        \n",
    "                    for tag in soup.find_all('a', class_='a-size-mini a-link-normal a-color-secondary'):\n",
    "                        styles.append(tag.contents)\n",
    "                        \n",
    "    return sizes, styles, dates, review"
   ]
  },
  {
   "cell_type": "code",
   "execution_count": 10,
   "metadata": {
    "collapsed": true
   },
   "outputs": [],
   "source": [
    "def clean_mattress_style(style_list):\n",
    "    clean_styles = []\n",
    "    for stl in style_list:\n",
    "        stl_to_str = str(stl)\n",
    "        clean_stl = re.sub(\".+(?<=Style Name:\\s)\",\"\",stl_to_str)\n",
    "        clean_stl2 = re.sub(\"('])\",\"\",clean_stl)\n",
    "        clean_styles.append(clean_stl2)\n",
    "    return clean_styles"
   ]
  },
  {
   "cell_type": "code",
   "execution_count": 11,
   "metadata": {
    "collapsed": true
   },
   "outputs": [],
   "source": [
    "def clean_mattress_size(size_list):\n",
    "    clean_sizes = []\n",
    "    for sz in size_list:\n",
    "        sz_to_str = str(sz)\n",
    "        clean_sz = re.sub(\"(?<=(n|l|g)').+\",\"\",sz_to_str)\n",
    "        clean_sz2 = re.sub(\"u'([^']*)'\",r'\\1',clean_sz)\n",
    "        clean_sz3 = re.sub(\"^\\D\",\"\", clean_sz2)\n",
    "        clean_sz4 = re.sub(\"(Size:)\",\"\",clean_sz3)\n",
    "        clean_sizes.append(clean_sz4.strip())\n",
    "    return clean_sizes"
   ]
  },
  {
   "cell_type": "code",
   "execution_count": 12,
   "metadata": {
    "collapsed": false
   },
   "outputs": [],
   "source": [
    "def clean_review_date(date_list):\n",
    "    clean_dates = []\n",
    "    for dt in date_list:\n",
    "        dt_to_str = str(dt)\n",
    "        clean_dt = re.sub(\"u'([^']*)'\",r'\\1',dt_to_str)\n",
    "        clean_dt2 = re.sub(\"(on)\",\"\",clean_dt)\n",
    "        clean_dates.append(clean_dt2[1:-1].strip())\n",
    "    return clean_dates"
   ]
  },
  {
   "cell_type": "code",
   "execution_count": 13,
   "metadata": {
    "collapsed": false
   },
   "outputs": [],
   "source": [
    "def clean_mattress_review(review_list):\n",
    "    clean_reviews = []\n",
    "    for rev in review_list:\n",
    "        rev_to_str = str(rev)\n",
    "        clean_rev = re.sub('<br\\>',' ',rev_to_str)\n",
    "        clean_rev2 = re.sub('<br/>',' ',clean_rev)\n",
    "        clean_rev3 = re.sub(\"u'([^']*)'\",r'\\1',clean_rev2)\n",
    "        clean_rev4 = re.sub('(\"u)','',clean_rev3)\n",
    "        clean_rev5 = re.sub('(u\")','',clean_rev4)\n",
    "        #clean_reviews.append(clean_rev2[1:-1])\n",
    "        clean_reviews.append(clean_rev5[1:-1])\n",
    "    return clean_reviews"
   ]
  },
  {
   "cell_type": "markdown",
   "metadata": {},
   "source": [
    "## Get Amazon Data"
   ]
  },
  {
   "cell_type": "code",
   "execution_count": 14,
   "metadata": {
    "collapsed": true
   },
   "outputs": [
    {
     "name": "stderr",
     "output_type": "stream",
     "text": [
      "//anaconda/lib/python2.7/site-packages/bs4/__init__.py:166: UserWarning: No parser was explicitly specified, so I'm using the best available HTML parser for this system (\"lxml\"). This usually isn't a problem, but if you run this code on another system, or in a different virtual environment, it may use a different parser and behave differently.\n",
      "\n",
      "To get rid of this warning, change this:\n",
      "\n",
      " BeautifulSoup([your markup])\n",
      "\n",
      "to this:\n",
      "\n",
      " BeautifulSoup([your markup], \"lxml\")\n",
      "\n",
      "  markup_type=markup_type))\n"
     ]
    }
   ],
   "source": [
    "FiveS_Sizes, FiveS_Styles, FiveS_Dates, FiveS_Reviews = get_review_data('5S')\n",
    "FourS_Sizes, FourS_Styles, FourS_Dates, FourS_Reviews = get_review_data('4S')\n",
    "ThreeS_Sizes, ThreeS_Styles, ThreeS_Dates, ThreeS_Reviews = get_review_data('3S')\n",
    "TwoS_Sizes, TwoS_Styles, TwoS_Dates, TwoS_Reviews = get_review_data('2S')\n",
    "OneS_Sizes, OneS_Styles, OneS_Dates, OneS_Reviews = get_review_data('1S')"
   ]
  },
  {
   "cell_type": "markdown",
   "metadata": {},
   "source": [
    "## Clean Data"
   ]
  },
  {
   "cell_type": "markdown",
   "metadata": {},
   "source": [
    "#### Reviews"
   ]
  },
  {
   "cell_type": "code",
   "execution_count": 15,
   "metadata": {
    "collapsed": true
   },
   "outputs": [],
   "source": [
    "clean_5S_reviews = clean_mattress_review(FiveS_Reviews)\n",
    "clean_4S_reviews = clean_mattress_review(FourS_Reviews)\n",
    "clean_3S_reviews = clean_mattress_review(ThreeS_Reviews)\n",
    "clean_2S_reviews = clean_mattress_review(TwoS_Reviews)\n",
    "clean_1S_reviews = clean_mattress_review(OneS_Reviews)"
   ]
  },
  {
   "cell_type": "markdown",
   "metadata": {},
   "source": [
    "#### 5 Star"
   ]
  },
  {
   "cell_type": "code",
   "execution_count": null,
   "metadata": {
    "collapsed": false
   },
   "outputs": [],
   "source": [
    "clean_5S_dates = clean_review_date(FiveS_Dates)\n",
    "clean_5S_styles = clean_mattress_style(FiveS_Styles)\n",
    "clean_5S_sizes = clean_mattress_size(FiveS_Sizes)"
   ]
  },
  {
   "cell_type": "code",
   "execution_count": null,
   "metadata": {
    "collapsed": false
   },
   "outputs": [],
   "source": [
    "trace = 0\n",
    "for i in xrange(len(clean_5S_dates)):\n",
    "    if i < len(clean_5S_dates):\n",
    "        if trace == 0 or trace == 1:\n",
    "            del clean_5S_dates[i]\n",
    "            trace +=1\n",
    "        if trace != 0 and trace != 1:\n",
    "            trace +=1\n",
    "        if trace == 11:\n",
    "            trace = 0"
   ]
  },
  {
   "cell_type": "code",
   "execution_count": null,
   "metadata": {
    "collapsed": false
   },
   "outputs": [],
   "source": [
    "table_5S = pd.DataFrame()\n",
    "table_5S['Style'] = clean_5S_styles\n",
    "table_5S['Size'] = clean_5S_sizes\n",
    "table_5S['Date'] = clean_5S_dates\n",
    "table_5S['Review'] = clean_5S_reviews\n",
    "table_5S['Stars'] = 5"
   ]
  },
  {
   "cell_type": "code",
   "execution_count": null,
   "metadata": {
    "collapsed": false
   },
   "outputs": [],
   "source": [
    "table_5S.head()"
   ]
  },
  {
   "cell_type": "markdown",
   "metadata": {},
   "source": [
    "#### 4 Star"
   ]
  },
  {
   "cell_type": "code",
   "execution_count": null,
   "metadata": {
    "collapsed": true
   },
   "outputs": [],
   "source": [
    "clean_4S_sizes = clean_mattress_size(FourS_Sizes)\n",
    "clean_4S_styles = clean_mattress_style(FourS_Styles)\n",
    "clean_4S_dates = clean_review_date(FourS_Dates)"
   ]
  },
  {
   "cell_type": "code",
   "execution_count": null,
   "metadata": {
    "collapsed": false
   },
   "outputs": [],
   "source": [
    "trace = 0\n",
    "for i in xrange(len(clean_4S_dates)):\n",
    "    if i < len(clean_4S_dates):\n",
    "        if trace == 0 or trace == 1:\n",
    "            del clean_4S_dates[i]\n",
    "            trace +=1\n",
    "        if trace != 0 and trace != 1:\n",
    "            trace +=1\n",
    "        if trace == 11:\n",
    "            trace = 0"
   ]
  },
  {
   "cell_type": "code",
   "execution_count": null,
   "metadata": {
    "collapsed": false
   },
   "outputs": [],
   "source": [
    "table_4S = pd.DataFrame()\n",
    "table_4S['Style'] = clean_4S_styles\n",
    "table_4S['Size'] = clean_4S_sizes\n",
    "table_4S['Date'] = clean_4S_dates\n",
    "table_4S['Review'] = clean_4S_reviews\n",
    "table_4S['Stars'] = 4"
   ]
  },
  {
   "cell_type": "code",
   "execution_count": null,
   "metadata": {
    "collapsed": false
   },
   "outputs": [],
   "source": [
    "table_4S.head()"
   ]
  },
  {
   "cell_type": "markdown",
   "metadata": {},
   "source": [
    "#### 3 Star"
   ]
  },
  {
   "cell_type": "code",
   "execution_count": null,
   "metadata": {
    "collapsed": true
   },
   "outputs": [],
   "source": [
    "clean_3S_sizes = clean_mattress_size(ThreeS_Sizes)\n",
    "clean_3S_styles = clean_mattress_style(ThreeS_Styles)\n",
    "clean_3S_dates = clean_review_date(ThreeS_Dates)"
   ]
  },
  {
   "cell_type": "code",
   "execution_count": null,
   "metadata": {
    "collapsed": true
   },
   "outputs": [],
   "source": [
    "trace = 0\n",
    "for i in xrange(len(clean_3S_dates)):\n",
    "    if i < len(clean_3S_dates):\n",
    "        if trace == 0 or trace == 1:\n",
    "            del clean_3S_dates[i]\n",
    "            trace +=1\n",
    "        if trace != 0 and trace != 1:\n",
    "            trace +=1\n",
    "        if trace == 11:\n",
    "            trace = 0"
   ]
  },
  {
   "cell_type": "code",
   "execution_count": null,
   "metadata": {
    "collapsed": true
   },
   "outputs": [],
   "source": [
    "table_3S = pd.DataFrame()\n",
    "table_3S['Style'] = clean_3S_styles\n",
    "table_3S['Size'] = clean_3S_sizes\n",
    "table_3S['Date'] = clean_3S_dates\n",
    "table_3S['Review'] = clean_3S_reviews\n",
    "table_3S['Stars'] = 3"
   ]
  },
  {
   "cell_type": "markdown",
   "metadata": {},
   "source": [
    "#### 2 Star"
   ]
  },
  {
   "cell_type": "code",
   "execution_count": null,
   "metadata": {
    "collapsed": true
   },
   "outputs": [],
   "source": [
    "clean_2S_sizes = clean_mattress_size(TwoS_Sizes)\n",
    "clean_2S_styles = clean_mattress_style(TwoS_Styles)\n",
    "clean_2S_dates = clean_review_date(TwoS_Dates)"
   ]
  },
  {
   "cell_type": "code",
   "execution_count": null,
   "metadata": {
    "collapsed": true
   },
   "outputs": [],
   "source": [
    "trace = 0\n",
    "for i in xrange(len(clean_2S_dates)):\n",
    "    if i < len(clean_2S_dates):\n",
    "        if trace == 0 or trace == 1:\n",
    "            del clean_2S_dates[i]\n",
    "            trace +=1\n",
    "        if trace != 0 and trace != 1:\n",
    "            trace +=1\n",
    "        if trace == 11:\n",
    "            trace = 0"
   ]
  },
  {
   "cell_type": "code",
   "execution_count": null,
   "metadata": {
    "collapsed": true
   },
   "outputs": [],
   "source": [
    "table_2S = pd.DataFrame()\n",
    "table_2S['Style'] = clean_2S_styles\n",
    "table_2S['Size'] = clean_2S_sizes\n",
    "table_2S['Date'] = clean_2S_dates\n",
    "table_2S['Review'] = clean_2S_reviews\n",
    "table_2S['Stars'] = 2"
   ]
  },
  {
   "cell_type": "markdown",
   "metadata": {},
   "source": [
    "#### 1 Star"
   ]
  },
  {
   "cell_type": "code",
   "execution_count": null,
   "metadata": {
    "collapsed": true
   },
   "outputs": [],
   "source": [
    "clean_1S_sizes = clean_mattress_size(OneS_Sizes)\n",
    "clean_1S_styles = clean_mattress_style(OneS_Styles)\n",
    "clean_1S_dates = clean_review_date(OneS_Dates)"
   ]
  },
  {
   "cell_type": "code",
   "execution_count": null,
   "metadata": {
    "collapsed": true
   },
   "outputs": [],
   "source": [
    "trace = 0\n",
    "for i in xrange(len(clean_1S_dates)):\n",
    "    if i < len(clean_1S_dates):\n",
    "        if trace == 0 or trace == 1:\n",
    "            del clean_1S_dates[i]\n",
    "            trace +=1\n",
    "        if trace != 0 and trace != 1:\n",
    "            trace +=1\n",
    "        if trace == 11:\n",
    "            trace = 0"
   ]
  },
  {
   "cell_type": "code",
   "execution_count": null,
   "metadata": {
    "collapsed": true
   },
   "outputs": [],
   "source": [
    "table_1S = pd.DataFrame()\n",
    "table_1S['Style'] = clean_1S_styles\n",
    "table_1S['Size'] = clean_1S_sizes\n",
    "table_1S['Date'] = clean_1S_dates\n",
    "table_1S['Review'] = clean_1S_reviews\n",
    "table_1S['Stars'] = 1"
   ]
  },
  {
   "cell_type": "markdown",
   "metadata": {},
   "source": [
    "## Combine All Data"
   ]
  },
  {
   "cell_type": "code",
   "execution_count": null,
   "metadata": {
    "collapsed": true
   },
   "outputs": [],
   "source": [
    "frames = [table_5S, table_4S, table_3S, table_2S, table_1S]\n",
    "all_reviews_df = pd.concat(frames, ignore_index=True)"
   ]
  },
  {
   "cell_type": "code",
   "execution_count": null,
   "metadata": {
    "collapsed": false
   },
   "outputs": [],
   "source": [
    "#all_reviews_df.to_csv('Tuft_Needle_Reviews_Data_v3.csv', index=False)"
   ]
  },
  {
   "cell_type": "markdown",
   "metadata": {},
   "source": [
    "## Tokenize Each Review "
   ]
  },
  {
   "cell_type": "code",
   "execution_count": null,
   "metadata": {
    "collapsed": false
   },
   "outputs": [],
   "source": [
    "tokenizer = RegexpTokenizer(r'\\w+')\n",
    "\n",
    "all_reviews_df['Review_Tokenized'] = 'Replace'\n",
    "all_reviews_df['Review_Length'] = 0\n",
    "\n",
    "for i in xrange(len(all_reviews_df)):\n",
    "    text = all_reviews_df['Review'][i]\n",
    "    tokens = tokenizer.tokenize(text)\n",
    "    all_reviews_df['Review_Tokenized'][i] = tokens\n",
    "    all_reviews_df['Review_Length'][i] = len(tokens)"
   ]
  },
  {
   "cell_type": "markdown",
   "metadata": {},
   "source": [
    "## Load Data\n",
    "#### From work done above"
   ]
  },
  {
   "cell_type": "code",
   "execution_count": 16,
   "metadata": {
    "collapsed": false
   },
   "outputs": [],
   "source": [
    "all_reviews_df = pd.read_csv('Tuft_Needle_Reviews_Data_v3.csv', index_col='Date', parse_dates=True, infer_datetime_format=True)"
   ]
  },
  {
   "cell_type": "code",
   "execution_count": 17,
   "metadata": {
    "collapsed": true
   },
   "outputs": [],
   "source": [
    "all_reviews_df.sort_index(inplace=True)"
   ]
  },
  {
   "cell_type": "code",
   "execution_count": 18,
   "metadata": {
    "collapsed": false
   },
   "outputs": [],
   "source": [
    "all_reviews_df['Reviews_Written'] = 1"
   ]
  },
  {
   "cell_type": "code",
   "execution_count": 20,
   "metadata": {
    "collapsed": false
   },
   "outputs": [
    {
     "data": {
      "text/html": [
       "<div>\n",
       "<table border=\"1\" class=\"dataframe\">\n",
       "  <thead>\n",
       "    <tr style=\"text-align: right;\">\n",
       "      <th></th>\n",
       "      <th>Style</th>\n",
       "      <th>Size</th>\n",
       "      <th>Review</th>\n",
       "      <th>Stars</th>\n",
       "      <th>Review_Tokenized</th>\n",
       "      <th>Review_Length</th>\n",
       "      <th>Reviews_Written</th>\n",
       "    </tr>\n",
       "    <tr>\n",
       "      <th>Date</th>\n",
       "      <th></th>\n",
       "      <th></th>\n",
       "      <th></th>\n",
       "      <th></th>\n",
       "      <th></th>\n",
       "      <th></th>\n",
       "      <th></th>\n",
       "    </tr>\n",
       "  </thead>\n",
       "  <tbody>\n",
       "    <tr>\n",
       "      <th>2013-07-19</th>\n",
       "      <td>5-Inch</td>\n",
       "      <td>Twin</td>\n",
       "      <td>We bought this bed for our new apartment - did...</td>\n",
       "      <td>4</td>\n",
       "      <td>['We', 'bought', 'this', 'bed', 'for', 'our', ...</td>\n",
       "      <td>147</td>\n",
       "      <td>1</td>\n",
       "    </tr>\n",
       "    <tr>\n",
       "      <th>2013-07-31</th>\n",
       "      <td>5-Inch</td>\n",
       "      <td>Twin</td>\n",
       "      <td>A friend informed me about Tuft &amp; Needle about...</td>\n",
       "      <td>4</td>\n",
       "      <td>['A', 'friend', 'informed', 'me', 'about', 'Tu...</td>\n",
       "      <td>254</td>\n",
       "      <td>1</td>\n",
       "    </tr>\n",
       "    <tr>\n",
       "      <th>2013-09-09</th>\n",
       "      <td>5-Inch</td>\n",
       "      <td>Queen</td>\n",
       "      <td>I love this foam mattress, and will not try ot...</td>\n",
       "      <td>5</td>\n",
       "      <td>['I', 'love', 'this', 'foam', 'mattress', 'and...</td>\n",
       "      <td>133</td>\n",
       "      <td>1</td>\n",
       "    </tr>\n",
       "    <tr>\n",
       "      <th>2013-09-25</th>\n",
       "      <td>5-Inch</td>\n",
       "      <td>Twin XL</td>\n",
       "      <td>I love the quality and the feel of the bed. I ...</td>\n",
       "      <td>4</td>\n",
       "      <td>['I', 'love', 'the', 'quality', 'and', 'the', ...</td>\n",
       "      <td>81</td>\n",
       "      <td>1</td>\n",
       "    </tr>\n",
       "    <tr>\n",
       "      <th>2013-10-13</th>\n",
       "      <td>5-Inch</td>\n",
       "      <td>Twin</td>\n",
       "      <td>My boyfriend and I bought this bed because we ...</td>\n",
       "      <td>4</td>\n",
       "      <td>['My', 'boyfriend', 'and', 'I', 'bought', 'thi...</td>\n",
       "      <td>156</td>\n",
       "      <td>1</td>\n",
       "    </tr>\n",
       "  </tbody>\n",
       "</table>\n",
       "</div>"
      ],
      "text/plain": [
       "             Style     Size  \\\n",
       "Date                          \n",
       "2013-07-19  5-Inch     Twin   \n",
       "2013-07-31  5-Inch     Twin   \n",
       "2013-09-09  5-Inch    Queen   \n",
       "2013-09-25  5-Inch  Twin XL   \n",
       "2013-10-13  5-Inch     Twin   \n",
       "\n",
       "                                                       Review  Stars  \\\n",
       "Date                                                                   \n",
       "2013-07-19  We bought this bed for our new apartment - did...      4   \n",
       "2013-07-31  A friend informed me about Tuft & Needle about...      4   \n",
       "2013-09-09  I love this foam mattress, and will not try ot...      5   \n",
       "2013-09-25  I love the quality and the feel of the bed. I ...      4   \n",
       "2013-10-13  My boyfriend and I bought this bed because we ...      4   \n",
       "\n",
       "                                             Review_Tokenized  Review_Length  \\\n",
       "Date                                                                           \n",
       "2013-07-19  ['We', 'bought', 'this', 'bed', 'for', 'our', ...            147   \n",
       "2013-07-31  ['A', 'friend', 'informed', 'me', 'about', 'Tu...            254   \n",
       "2013-09-09  ['I', 'love', 'this', 'foam', 'mattress', 'and...            133   \n",
       "2013-09-25  ['I', 'love', 'the', 'quality', 'and', 'the', ...             81   \n",
       "2013-10-13  ['My', 'boyfriend', 'and', 'I', 'bought', 'thi...            156   \n",
       "\n",
       "            Reviews_Written  \n",
       "Date                         \n",
       "2013-07-19                1  \n",
       "2013-07-31                1  \n",
       "2013-09-09                1  \n",
       "2013-09-25                1  \n",
       "2013-10-13                1  "
      ]
     },
     "execution_count": 20,
     "metadata": {},
     "output_type": "execute_result"
    }
   ],
   "source": [
    "all_reviews_df.head()"
   ]
  },
  {
   "cell_type": "code",
   "execution_count": 84,
   "metadata": {
    "collapsed": false
   },
   "outputs": [
    {
     "data": {
      "text/html": [
       "<div>\n",
       "<table border=\"1\" class=\"dataframe\">\n",
       "  <thead>\n",
       "    <tr style=\"text-align: right;\">\n",
       "      <th></th>\n",
       "      <th>Stars</th>\n",
       "      <th>Reviews_Written</th>\n",
       "    </tr>\n",
       "    <tr>\n",
       "      <th>Date</th>\n",
       "      <th></th>\n",
       "      <th></th>\n",
       "    </tr>\n",
       "  </thead>\n",
       "  <tbody>\n",
       "    <tr>\n",
       "      <th>2013-09-30</th>\n",
       "      <td>4.500000</td>\n",
       "      <td>2.0</td>\n",
       "    </tr>\n",
       "    <tr>\n",
       "      <th>2013-10-31</th>\n",
       "      <td>4.000000</td>\n",
       "      <td>4.0</td>\n",
       "    </tr>\n",
       "    <tr>\n",
       "      <th>2013-11-30</th>\n",
       "      <td>4.666667</td>\n",
       "      <td>3.0</td>\n",
       "    </tr>\n",
       "    <tr>\n",
       "      <th>2013-12-31</th>\n",
       "      <td>3.333333</td>\n",
       "      <td>3.0</td>\n",
       "    </tr>\n",
       "    <tr>\n",
       "      <th>2014-01-31</th>\n",
       "      <td>4.000000</td>\n",
       "      <td>5.0</td>\n",
       "    </tr>\n",
       "  </tbody>\n",
       "</table>\n",
       "</div>"
      ],
      "text/plain": [
       "               Stars  Reviews_Written\n",
       "Date                                 \n",
       "2013-09-30  4.500000              2.0\n",
       "2013-10-31  4.000000              4.0\n",
       "2013-11-30  4.666667              3.0\n",
       "2013-12-31  3.333333              3.0\n",
       "2014-01-31  4.000000              5.0"
      ]
     },
     "execution_count": 84,
     "metadata": {},
     "output_type": "execute_result"
    }
   ],
   "source": [
    "monthly_summary = pd.DataFrame()\n",
    "monthly_summary['Stars'] = all_reviews_df.Stars.resample('M').mean()\n",
    "monthly_summary['Reviews_Written'] = all_reviews_df.Reviews_Written.resample('M').sum()\n",
    "monthly_summary = monthly_summary.truncate(before='2013-9-01', after='2016-08-30')\n",
    "monthly_summary.head()"
   ]
  },
  {
   "cell_type": "code",
   "execution_count": 85,
   "metadata": {
    "collapsed": false
   },
   "outputs": [
    {
     "data": {
      "text/html": [
       "<div>\n",
       "<table border=\"1\" class=\"dataframe\">\n",
       "  <thead>\n",
       "    <tr style=\"text-align: right;\">\n",
       "      <th></th>\n",
       "      <th>Stars</th>\n",
       "      <th>Reviews_Written</th>\n",
       "    </tr>\n",
       "    <tr>\n",
       "      <th>Date</th>\n",
       "      <th></th>\n",
       "      <th></th>\n",
       "    </tr>\n",
       "  </thead>\n",
       "  <tbody>\n",
       "    <tr>\n",
       "      <th>2016-03-31</th>\n",
       "      <td>3.450000</td>\n",
       "      <td>40.0</td>\n",
       "    </tr>\n",
       "    <tr>\n",
       "      <th>2016-04-30</th>\n",
       "      <td>3.850000</td>\n",
       "      <td>40.0</td>\n",
       "    </tr>\n",
       "    <tr>\n",
       "      <th>2016-05-31</th>\n",
       "      <td>3.857143</td>\n",
       "      <td>49.0</td>\n",
       "    </tr>\n",
       "    <tr>\n",
       "      <th>2016-06-30</th>\n",
       "      <td>3.270270</td>\n",
       "      <td>37.0</td>\n",
       "    </tr>\n",
       "    <tr>\n",
       "      <th>2016-07-31</th>\n",
       "      <td>4.400000</td>\n",
       "      <td>5.0</td>\n",
       "    </tr>\n",
       "  </tbody>\n",
       "</table>\n",
       "</div>"
      ],
      "text/plain": [
       "               Stars  Reviews_Written\n",
       "Date                                 \n",
       "2016-03-31  3.450000             40.0\n",
       "2016-04-30  3.850000             40.0\n",
       "2016-05-31  3.857143             49.0\n",
       "2016-06-30  3.270270             37.0\n",
       "2016-07-31  4.400000              5.0"
      ]
     },
     "execution_count": 85,
     "metadata": {},
     "output_type": "execute_result"
    }
   ],
   "source": [
    "monthly_summary.tail()"
   ]
  },
  {
   "cell_type": "code",
   "execution_count": 86,
   "metadata": {
    "collapsed": true
   },
   "outputs": [],
   "source": [
    "#monthly_summary.to_csv('TN_Monthly_Summary.csv', index_label='Date')"
   ]
  },
  {
   "cell_type": "code",
   "execution_count": 42,
   "metadata": {
    "collapsed": false
   },
   "outputs": [
    {
     "name": "stderr",
     "output_type": "stream",
     "text": [
      "//anaconda/lib/python2.7/site-packages/dateutil/rrule.py:470: DeprecationWarning: Using both 'count' and 'until' is inconsistent with RFC 2445 and has been deprecated in dateutil. Future versions will raise an error.\n",
      "  \"raise an error.\", DeprecationWarning)\n",
      "//anaconda/lib/python2.7/site-packages/dateutil/rrule.py:470: DeprecationWarning: Using both 'count' and 'until' is inconsistent with RFC 2445 and has been deprecated in dateutil. Future versions will raise an error.\n",
      "  \"raise an error.\", DeprecationWarning)\n",
      "//anaconda/lib/python2.7/site-packages/dateutil/rrule.py:470: DeprecationWarning: Using both 'count' and 'until' is inconsistent with RFC 2445 and has been deprecated in dateutil. Future versions will raise an error.\n",
      "  \"raise an error.\", DeprecationWarning)\n",
      "//anaconda/lib/python2.7/site-packages/dateutil/rrule.py:470: DeprecationWarning: Using both 'count' and 'until' is inconsistent with RFC 2445 and has been deprecated in dateutil. Future versions will raise an error.\n",
      "  \"raise an error.\", DeprecationWarning)\n",
      "//anaconda/lib/python2.7/site-packages/dateutil/rrule.py:470: DeprecationWarning: Using both 'count' and 'until' is inconsistent with RFC 2445 and has been deprecated in dateutil. Future versions will raise an error.\n",
      "  \"raise an error.\", DeprecationWarning)\n"
     ]
    },
    {
     "data": {
      "image/png": "[encoded data removed]",
      "text/plain": [
       "<matplotlib.figure.Figure at 0x1362d3c10>"
      ]
     },
     "metadata": {},
     "output_type": "display_data"
    }
   ],
   "source": [
    "fig, ax1 = plt.subplots()\n",
    "\n",
    "ax2 = ax1.twinx()\n",
    "ax1.plot(monthly_summary.index, monthly_summary['Stars'], 'g-')\n",
    "ax2.plot(monthly_summary.index, monthly_summary['Reviews_Written'], 'b-')\n",
    "\n",
    "ax1.set_xlabel('Date', fontsize=14, weight='bold')\n",
    "ax1.set_ylabel('Avg. Stars (Monthly)', color='g', fontsize=14, weight='bold')\n",
    "ax2.set_ylabel('Reviews Written (Monthly)', color='b', fontsize=14, weight='bold')\n",
    "\n",
    "ax1.tick_params(axis='both', labelsize=12)\n",
    "ax2.tick_params(axis='both', labelsize=12)\n",
    "\n",
    "plt.grid()\n",
    "\n",
    "#plt.show()\n",
    "plt.rcParams['figure.figsize'] = 20,5\n",
    "\n",
    "plt.savefig('Monthly_AvgStars_vs_Reviews')"
   ]
  },
  {
   "cell_type": "code",
   "execution_count": 113,
   "metadata": {
    "collapsed": true
   },
   "outputs": [],
   "source": [
    "avg_review_length_df = pd.DataFrame(all_reviews_df.groupby('Stars')['Review_Length'].mean())"
   ]
  },
  {
   "cell_type": "code",
   "execution_count": 114,
   "metadata": {
    "collapsed": false
   },
   "outputs": [
    {
     "data": {
      "text/html": [
       "<div>\n",
       "<table border=\"1\" class=\"dataframe\">\n",
       "  <thead>\n",
       "    <tr style=\"text-align: right;\">\n",
       "      <th></th>\n",
       "      <th>Review_Length</th>\n",
       "    </tr>\n",
       "    <tr>\n",
       "      <th>Stars</th>\n",
       "      <th></th>\n",
       "    </tr>\n",
       "  </thead>\n",
       "  <tbody>\n",
       "    <tr>\n",
       "      <th>1</th>\n",
       "      <td>163.000000</td>\n",
       "    </tr>\n",
       "    <tr>\n",
       "      <th>2</th>\n",
       "      <td>181.779221</td>\n",
       "    </tr>\n",
       "    <tr>\n",
       "      <th>3</th>\n",
       "      <td>198.687500</td>\n",
       "    </tr>\n",
       "    <tr>\n",
       "      <th>4</th>\n",
       "      <td>152.595000</td>\n",
       "    </tr>\n",
       "    <tr>\n",
       "      <th>5</th>\n",
       "      <td>222.780000</td>\n",
       "    </tr>\n",
       "  </tbody>\n",
       "</table>\n",
       "</div>"
      ],
      "text/plain": [
       "       Review_Length\n",
       "Stars               \n",
       "1         163.000000\n",
       "2         181.779221\n",
       "3         198.687500\n",
       "4         152.595000\n",
       "5         222.780000"
      ]
     },
     "execution_count": 114,
     "metadata": {},
     "output_type": "execute_result"
    }
   ],
   "source": [
    "avg_review_length_df.head()"
   ]
  },
  {
   "cell_type": "code",
   "execution_count": 117,
   "metadata": {
    "collapsed": true
   },
   "outputs": [],
   "source": [
    "#avg_review_length_df.to_csv('avg_rev_length.csv', index_label='Star Rating')"
   ]
  },
  {
   "cell_type": "markdown",
   "metadata": {},
   "source": [
    "## Create Clean Reviews List"
   ]
  },
  {
   "cell_type": "code",
   "execution_count": 43,
   "metadata": {
    "collapsed": false
   },
   "outputs": [
    {
     "name": "stdout",
     "output_type": "stream",
     "text": [
      "670\n"
     ]
    }
   ],
   "source": [
    "clean_reviews = []\n",
    "for review in clean_5S_reviews:\n",
    "    clean_reviews.append(review)\n",
    "for review in clean_4S_reviews:\n",
    "    clean_reviews.append(review)\n",
    "for review in clean_3S_reviews:\n",
    "    clean_reviews.append(review)\n",
    "for review in clean_2S_reviews:\n",
    "    clean_reviews.append(review)\n",
    "for review in clean_1S_reviews:\n",
    "    clean_reviews.append(review)\n",
    "print len(clean_reviews)"
   ]
  },
  {
   "cell_type": "markdown",
   "metadata": {},
   "source": [
    "## Create Stop Words List"
   ]
  },
  {
   "cell_type": "code",
   "execution_count": 175,
   "metadata": {
    "collapsed": false
   },
   "outputs": [],
   "source": [
    "punctuation = list(string.punctuation)\n",
    "stop = stopwords.words('english') + punctuation + [\"''\", \"'s\", \"'m\", 'I', \"``\", 'I\\\\', 'u', '...', \"'ve\", 'It', \"n't\",\n",
    "                                                   \"--\", \"n\", \"i\\\\\", \"..\", \"type=\", \"value=\", \"class=\", \"you\\\\u2019re\",\n",
    "                                                   \"didn\\\\u2019t\", \"tuft\", \"needle\", \"i\", \"it\", \"it\\\\\", \"that\\\\\", \"ca\", \"bed\",\n",
    "                                                   \"mattress\", \"mattresses\", \"wife\", \"husband\", \"amazon\"]"
   ]
  },
  {
   "cell_type": "markdown",
   "metadata": {},
   "source": [
    "## Tokenize Each Clean Review"
   ]
  },
  {
   "cell_type": "code",
   "execution_count": null,
   "metadata": {
    "collapsed": true
   },
   "outputs": [],
   "source": [
    "#texts = [[word for word in document.lower().split() if word not in stop] for document in clean_reviews]"
   ]
  },
  {
   "cell_type": "code",
   "execution_count": 176,
   "metadata": {
    "collapsed": true
   },
   "outputs": [],
   "source": [
    "texts = [[word for word in word_tokenize(document.lower()) if word not in stop] for document in clean_reviews]"
   ]
  },
  {
   "cell_type": "markdown",
   "metadata": {
    "collapsed": true
   },
   "source": [
    "## Remove Words that Appear Only Once"
   ]
  },
  {
   "cell_type": "code",
   "execution_count": 177,
   "metadata": {
    "collapsed": true
   },
   "outputs": [],
   "source": [
    "frequency = defaultdict(int)\n",
    "for text in texts:\n",
    "    for tkn in text:\n",
    "        frequency[tkn] += 1\n",
    "texts = [[tkn for tkn in text if frequency[tkn] > 1] for text in texts]"
   ]
  },
  {
   "cell_type": "markdown",
   "metadata": {},
   "source": [
    "## View Bigrams"
   ]
  },
  {
   "cell_type": "code",
   "execution_count": 47,
   "metadata": {
    "collapsed": false
   },
   "outputs": [],
   "source": [
    "terms_flatten = [y for x in texts for y in x]"
   ]
  },
  {
   "cell_type": "code",
   "execution_count": 51,
   "metadata": {
    "collapsed": false
   },
   "outputs": [],
   "source": [
    "terms_bigram = bigrams(terms_flatten)\n",
    "\n",
    "count_bigrams = Counter()\n",
    "count_bigrams.update(terms_bigram)\n",
    "\n",
    "most_common_bigrams = count_bigrams.most_common(15)"
   ]
  },
  {
   "cell_type": "code",
   "execution_count": 54,
   "metadata": {
    "collapsed": false
   },
   "outputs": [
    {
     "name": "stdout",
     "output_type": "stream",
     "text": [
      "(('memory', 'foam'), 160)\n",
      "160\n",
      "(('customer', 'service'), 146)\n",
      "146\n",
      "(('foam', 'mattress'), 116)\n",
      "116\n",
      "(('back', 'pain'), 85)\n",
      "85\n",
      "(('new', 'mattress'), 75)\n",
      "75\n",
      "(('firm', 'mattress'), 70)\n",
      "70\n",
      "(('side', 'sleeper'), 66)\n",
      "66\n",
      "(('mattress', 'topper'), 65)\n",
      "65\n",
      "(('old', 'mattress'), 54)\n",
      "54\n",
      "(('return', 'policy'), 54)\n",
      "54\n",
      "(('feel', 'like'), 51)\n",
      "51\n",
      "(('first', 'night'), 47)\n",
      "47\n",
      "(('mattress', 'firm'), 46)\n",
      "46\n",
      "(('king', 'size'), 46)\n",
      "46\n",
      "(('spring', 'mattress'), 45)\n",
      "45\n"
     ]
    }
   ],
   "source": [
    "for bigram in most_common_bigrams:\n",
    "    print bigram\n",
    "    print bigram[1]"
   ]
  },
  {
   "cell_type": "code",
   "execution_count": 101,
   "metadata": {
    "collapsed": false
   },
   "outputs": [
    {
     "data": {
      "text/plain": [
       "('customer', 'service')"
      ]
     },
     "execution_count": 101,
     "metadata": {},
     "output_type": "execute_result"
    }
   ],
   "source": [
    "most_common_bigrams[1][0]"
   ]
  },
  {
   "cell_type": "code",
   "execution_count": 91,
   "metadata": {
    "collapsed": true
   },
   "outputs": [],
   "source": [
    "bigrams_df = pd.DataFrame(np.arange(15))"
   ]
  },
  {
   "cell_type": "code",
   "execution_count": 93,
   "metadata": {
    "collapsed": true
   },
   "outputs": [],
   "source": [
    "bigrams_df['bigrams'] = 'replace'"
   ]
  },
  {
   "cell_type": "code",
   "execution_count": 103,
   "metadata": {
    "collapsed": true
   },
   "outputs": [],
   "source": [
    "bigrams_df['count'] = 0"
   ]
  },
  {
   "cell_type": "code",
   "execution_count": 102,
   "metadata": {
    "collapsed": true
   },
   "outputs": [
    {
     "name": "stderr",
     "output_type": "stream",
     "text": [
      "/anaconda/lib/python2.7/site-packages/ipykernel/__main__.py:2: SettingWithCopyWarning: \n",
      "A value is trying to be set on a copy of a slice from a DataFrame\n",
      "\n",
      "See the caveats in the documentation: http://pandas.pydata.org/pandas-docs/stable/indexing.html#indexing-view-versus-copy\n",
      "  from ipykernel import kernelapp as app\n"
     ]
    }
   ],
   "source": [
    "for i in xrange(len(bigrams_df)):\n",
    "    bigrams_df['bigrams'][i] = most_common_bigrams[i][0]"
   ]
  },
  {
   "cell_type": "code",
   "execution_count": 104,
   "metadata": {
    "collapsed": true
   },
   "outputs": [
    {
     "name": "stderr",
     "output_type": "stream",
     "text": [
      "/anaconda/lib/python2.7/site-packages/ipykernel/__main__.py:2: SettingWithCopyWarning: \n",
      "A value is trying to be set on a copy of a slice from a DataFrame\n",
      "\n",
      "See the caveats in the documentation: http://pandas.pydata.org/pandas-docs/stable/indexing.html#indexing-view-versus-copy\n",
      "  from ipykernel import kernelapp as app\n"
     ]
    }
   ],
   "source": [
    "for i in xrange(len(bigrams_df)):\n",
    "    bigrams_df['count'][i] = most_common_bigrams[i][1]"
   ]
  },
  {
   "cell_type": "code",
   "execution_count": 107,
   "metadata": {
    "collapsed": false
   },
   "outputs": [],
   "source": [
    "del bigrams_df[0]"
   ]
  },
  {
   "cell_type": "code",
   "execution_count": 108,
   "metadata": {
    "collapsed": false
   },
   "outputs": [
    {
     "data": {
      "text/html": [
       "<div>\n",
       "<table border=\"1\" class=\"dataframe\">\n",
       "  <thead>\n",
       "    <tr style=\"text-align: right;\">\n",
       "      <th></th>\n",
       "      <th>bigrams</th>\n",
       "      <th>count</th>\n",
       "    </tr>\n",
       "  </thead>\n",
       "  <tbody>\n",
       "    <tr>\n",
       "      <th>0</th>\n",
       "      <td>(memory, foam)</td>\n",
       "      <td>160</td>\n",
       "    </tr>\n",
       "    <tr>\n",
       "      <th>1</th>\n",
       "      <td>(customer, service)</td>\n",
       "      <td>146</td>\n",
       "    </tr>\n",
       "    <tr>\n",
       "      <th>2</th>\n",
       "      <td>(foam, mattress)</td>\n",
       "      <td>116</td>\n",
       "    </tr>\n",
       "    <tr>\n",
       "      <th>3</th>\n",
       "      <td>(back, pain)</td>\n",
       "      <td>85</td>\n",
       "    </tr>\n",
       "    <tr>\n",
       "      <th>4</th>\n",
       "      <td>(new, mattress)</td>\n",
       "      <td>75</td>\n",
       "    </tr>\n",
       "  </tbody>\n",
       "</table>\n",
       "</div>"
      ],
      "text/plain": [
       "               bigrams  count\n",
       "0       (memory, foam)    160\n",
       "1  (customer, service)    146\n",
       "2     (foam, mattress)    116\n",
       "3         (back, pain)     85\n",
       "4      (new, mattress)     75"
      ]
     },
     "execution_count": 108,
     "metadata": {},
     "output_type": "execute_result"
    }
   ],
   "source": [
    "bigrams_df.head()"
   ]
  },
  {
   "cell_type": "code",
   "execution_count": 110,
   "metadata": {
    "collapsed": true
   },
   "outputs": [],
   "source": [
    "#bigrams_df.to_csv('TN_Top_Bigrams.csv', index=False, sep='\\t')"
   ]
  },
  {
   "cell_type": "markdown",
   "metadata": {},
   "source": [
    "## Create Dictionary of Words from Reviews"
   ]
  },
  {
   "cell_type": "code",
   "execution_count": 178,
   "metadata": {
    "collapsed": false
   },
   "outputs": [],
   "source": [
    "dictionary = Dictionary(texts)"
   ]
  },
  {
   "cell_type": "code",
   "execution_count": 179,
   "metadata": {
    "collapsed": false
   },
   "outputs": [
    {
     "name": "stdout",
     "output_type": "stream",
     "text": [
      "Dictionary(3319 unique tokens: [u'limited', u'personally', u'unfurl', u'dynasty', u'four']...)\n"
     ]
    }
   ],
   "source": [
    "print dictionary"
   ]
  },
  {
   "cell_type": "markdown",
   "metadata": {},
   "source": [
    "## Create Corpus from Reviews"
   ]
  },
  {
   "cell_type": "code",
   "execution_count": 180,
   "metadata": {
    "collapsed": true
   },
   "outputs": [],
   "source": [
    "corpus = [dictionary.doc2bow(text) for text in texts]"
   ]
  },
  {
   "cell_type": "markdown",
   "metadata": {},
   "source": [
    "## TF-IDF"
   ]
  },
  {
   "cell_type": "code",
   "execution_count": 181,
   "metadata": {
    "collapsed": false
   },
   "outputs": [],
   "source": [
    "tfidf = TfidfModel(corpus)"
   ]
  },
  {
   "cell_type": "code",
   "execution_count": 182,
   "metadata": {
    "collapsed": false
   },
   "outputs": [],
   "source": [
    "corpus_tfidf = tfidf[corpus]"
   ]
  },
  {
   "cell_type": "markdown",
   "metadata": {},
   "source": [
    "## Find Optimal Number of Topics - Credit: [Salmon Run Blog](http://sujitpal.blogspot.com/2014/08/topic-modeling-with-gensim-over-past.html)"
   ]
  },
  {
   "cell_type": "code",
   "execution_count": 183,
   "metadata": {
    "collapsed": false
   },
   "outputs": [],
   "source": [
    "lsi = LsiModel(corpus_tfidf, id2word=dictionary, num_topics=2) \n",
    "corpus_lsi = lsi[corpus_tfidf]"
   ]
  },
  {
   "cell_type": "code",
   "execution_count": 185,
   "metadata": {
    "collapsed": true
   },
   "outputs": [],
   "source": [
    "# write out coordinates to file\n",
    "fcoords = open(\"coords.csv\", 'wb')\n",
    "for vector in lsi[corpus]:\n",
    "    if len(vector) != 2:\n",
    "        continue\n",
    "    fcoords.write(\"%6.4f\\t%6.4f\\n\" % (vector[0][1], vector[1][1]))\n",
    "fcoords.close()"
   ]
  },
  {
   "cell_type": "code",
   "execution_count": 186,
   "metadata": {
    "collapsed": false
   },
   "outputs": [
    {
     "data": {
      "image/png": "[encoded data removed]",
      "text/plain": [
       "<matplotlib.figure.Figure at 0x135345ed0>"
      ]
     },
     "metadata": {},
     "output_type": "display_data"
    }
   ],
   "source": [
    "from sklearn.cluster import KMeans\n",
    "\n",
    "MAX_K = 10\n",
    "\n",
    "X = np.loadtxt(\"coords.csv\", delimiter=\"\\t\")\n",
    "ks = range(1, MAX_K + 1)\n",
    "\n",
    "inertias = np.zeros(MAX_K)\n",
    "diff = np.zeros(MAX_K)\n",
    "diff2 = np.zeros(MAX_K)\n",
    "diff3 = np.zeros(MAX_K)\n",
    "for k in ks:\n",
    "    kmeans = KMeans(k).fit(X)\n",
    "    inertias[k - 1] = kmeans.inertia_\n",
    "    # first difference    \n",
    "    if k > 1:\n",
    "        diff[k - 1] = inertias[k - 1] - inertias[k - 2]\n",
    "    # second difference\n",
    "    if k > 2:\n",
    "        diff2[k - 1] = diff[k - 1] - diff[k - 2]\n",
    "    # third difference\n",
    "    if k > 3:\n",
    "        diff3[k - 1] = diff2[k - 1] - diff2[k - 2]\n",
    "\n",
    "elbow = np.argmin(diff3[3:]) + 3\n",
    "\n",
    "plt.plot(ks, inertias, \"b*-\")\n",
    "plt.plot(ks[elbow], inertias[elbow], marker='o', markersize=12,\n",
    "         markeredgewidth=2, markeredgecolor='r', markerfacecolor=None)\n",
    "plt.ylabel(\"Inertia\")\n",
    "plt.xlabel(\"K\")\n",
    "plt.show()"
   ]
  },
  {
   "cell_type": "markdown",
   "metadata": {},
   "source": [
    "## Build LDA Model"
   ]
  },
  {
   "cell_type": "code",
   "execution_count": 187,
   "metadata": {
    "collapsed": false
   },
   "outputs": [],
   "source": [
    "lda = LdaModel(corpus_tfidf, id2word=dictionary, num_topics=4, passes=1, alpha='auto', iterations=30)\n",
    "\n",
    "#double wrapper over the original corpus: bow->tfidf->fold-in-lda\n",
    "corpus_lda = lda[corpus_tfidf] "
   ]
  },
  {
   "cell_type": "markdown",
   "metadata": {},
   "source": [
    "## Build LDA Topic Modeling Viz"
   ]
  },
  {
   "cell_type": "code",
   "execution_count": 188,
   "metadata": {
    "collapsed": false
   },
   "outputs": [
    {
     "data": {
      "text/html": [
       "\n",
       "<link rel=\"stylesheet\" type=\"text/css\" href=\"https://cdn.rawgit.com/bmabey/pyLDAvis/files/ldavis.v1.0.0.css\">\n",
       "\n",
       "\n",
       "<div id=\"ldavis_el126651430189605023544049\"></div>\n",
       "<script type=\"text/javascript\">\n",
       "\n",
       "var ldavis_el126651430189605023544049_data = {\"plot.opts\": {\"xlab\": \"PC1\", \"ylab\": \"PC2\"}, \"topic.order\": [2, 4, 1, 3], \"token.table\": {\"Topic\": [1, 2, 3, 4, 1, 2, 3, 1, 2, 3, 4, 1, 2, 3, 4, 1, 2, 3, 4, 1, 2, 3, 4, 1, 2, 3, 1, 2, 3, 4, 1, 2, 3, 4, 1, 2, 3, 4, 1, 2, 3, 4, 1, 2, 3, 4, 1, 2, 3, 4, 1, 2, 3, 4, 1, 2, 3, 4, 1, 2, 3, 4, 1, 2, 3, 4, 1, 2, 3, 4, 1, 2, 3, 4, 1, 2, 3, 1, 2, 3, 4, 1, 2, 3, 4, 1, 2, 3, 4, 1, 2, 3, 4, 1, 2, 3, 4, 1, 2, 3, 1, 2, 3, 1, 2, 3, 4, 1, 2, 3, 1, 2, 3, 1, 2, 3, 1, 2, 3, 4, 1, 2, 3, 1, 2, 3, 4, 1, 2, 3, 1, 2, 3, 1, 2, 3, 4, 1, 2, 3, 1, 2, 3, 4, 1, 2, 3, 4, 1, 2, 3, 4, 1, 2, 3, 4, 1, 2, 3, 4, 1, 2, 3, 4, 1, 2, 3, 1, 2, 3, 4, 1, 2, 3, 4, 1, 2, 3, 4, 1, 2, 3, 4, 1, 2, 3, 4, 1, 2, 3, 4, 1, 2, 3, 1, 2, 3, 1, 2, 3, 1, 2, 3, 4, 1, 2, 3, 4, 1, 2, 3, 1, 2, 3, 1, 2, 3, 4, 1, 2, 3, 1, 2, 3, 1, 2, 3, 1, 2, 3, 1, 2, 3, 4, 1, 2, 3, 1, 2, 3, 4, 1, 2, 3, 1, 2, 3, 1, 2, 3, 1, 2, 3, 4, 1, 2, 3, 4, 1, 2, 3, 4, 1, 2, 3, 1, 2, 3, 1, 2, 3, 4, 1, 2, 3, 4, 1, 2, 3, 1, 2, 3, 4, 1, 2, 3, 4, 1, 2, 3, 4, 1, 2, 3, 4, 1, 2, 3, 4, 1, 2, 3, 4, 1, 2, 3, 4, 1, 2, 3, 1, 2, 3, 4, 1, 2, 3, 1, 2, 3, 4, 1, 2, 3, 4, 1, 2, 3, 4, 1, 2, 3, 4, 1, 2, 3, 1, 2, 3, 4, 1, 2, 3, 4, 1, 2, 3, 4, 1, 2, 3, 1, 2, 3, 4, 1, 2, 3, 1, 2, 3, 1, 2, 3, 4, 1, 2, 3, 4, 1, 2, 3, 1, 2, 3, 1, 2, 3, 1, 2, 3, 1, 2, 3, 1, 2, 3, 4, 1, 2, 3, 4, 1, 2, 3, 4, 1, 2, 3, 4, 1, 2, 3, 4, 1, 2, 3, 4, 1, 2, 3, 4, 1, 2, 3, 4, 1, 2, 3, 4, 1, 2, 3, 4, 1, 2, 3, 4, 1, 2, 3, 4, 1, 2, 3, 4, 1, 2, 3, 4, 1, 2, 3, 4, 1, 2, 3, 4, 1, 2, 3, 4, 1, 2, 3, 1, 2, 3, 4, 1, 2, 3, 4, 1, 2, 3, 4, 1, 2, 3, 4, 1, 2, 3, 4, 1, 2, 3, 4, 1, 2, 3, 1, 2, 3, 4, 1, 2, 3, 4, 1, 2, 3, 4, 1, 2, 3, 4, 1, 2, 3, 1, 2, 3, 4, 1, 2, 3, 4, 1, 2, 3, 4, 1, 2, 3, 4, 1, 2, 3, 4, 1, 2, 3, 1, 2, 3, 4, 1, 2, 3, 1, 2, 3, 1, 2, 3, 1, 2, 3, 4, 1, 2, 3, 4, 1, 2, 3, 1, 2, 3, 4, 1, 2, 3, 4, 1, 2, 3, 4, 1, 2, 3, 1, 2, 3, 4, 1, 2, 3, 1, 2, 3, 4, 1, 2, 3, 1, 2, 3, 4, 1, 2, 3, 4, 1, 2, 3, 4, 1, 2, 3, 1, 2, 3, 4, 1, 2, 3, 4, 1, 2, 3, 1, 2, 3, 4, 1, 2, 3, 1, 2, 3, 4, 1, 2, 3, 4, 1, 2, 3, 4, 1, 2, 3, 4, 1, 2, 3, 4, 1, 2, 3, 4, 1, 2, 3, 4, 1, 2, 3, 1, 2, 3, 4, 1, 2, 3, 1, 2, 3, 4, 1, 2, 3, 1, 2, 3, 4, 1, 2, 3, 1, 2, 3, 1, 2, 3, 4, 1, 2, 3, 4, 1, 2, 3, 4, 1, 2, 3, 1, 2, 3, 1, 2, 3, 4, 1, 2, 3, 4, 1, 2, 3, 1, 2, 3, 4, 1, 2, 3, 4, 1, 2, 3, 4, 1, 2, 3, 4, 1, 2, 3, 4, 1, 2, 3, 4, 1, 2, 3, 4, 1, 2, 3, 4, 1, 2, 3, 4, 1, 2, 3, 4, 1, 2, 3, 4, 1, 2, 3, 4, 1, 2, 3, 4, 1, 2, 3, 1, 2, 3, 4, 1, 2, 3, 4, 1, 2, 3, 4, 1, 2, 3, 4, 1, 2, 3, 4, 1, 2, 3, 4, 1, 2, 3, 4, 1, 2, 3, 4, 1, 2, 3, 4, 1, 2, 3, 4, 1, 2, 3, 1, 2, 3, 4, 1, 2, 3, 4, 1, 2, 3, 4, 1, 2, 3, 4, 1, 2, 3, 4, 1, 2, 3, 1, 2, 3, 4, 1, 2, 3, 4, 1, 2, 3, 1, 2, 3, 1, 2, 3, 4, 1, 2, 3, 1, 2, 3, 4, 1, 2, 3, 4, 1, 2, 3, 4, 1, 2, 3, 4, 1, 2, 3, 4, 1, 2, 3, 4, 1, 2, 3, 1, 2, 3, 4, 1, 2, 3, 4, 1, 2, 3, 4, 1, 2, 3, 4, 1, 2, 3, 4, 1, 2, 3, 4, 1, 2, 3, 4, 1, 2, 3, 4, 1, 2, 3, 4, 1, 2, 3, 4, 1, 2, 3, 1, 2, 3, 4, 1, 2, 3, 4, 1, 2, 3, 1, 2, 3, 4, 1, 2, 3, 4, 1, 2, 3, 4], \"Freq\": [0.36720785213464296, 0.50491079668513406, 0.091801963033660741, 0.022950490758415185, 0.77252028954253527, 0.15450405790850705, 0.077252028954253524, 0.44940217664195342, 0.38812006164532342, 0.12256422999326003, 0.040854743331086678, 0.44847272676142591, 0.29898181784095063, 0.14949090892047531, 0.14949090892047531, 0.64306613461493078, 0.2733031072113456, 0.064306613461493078, 0.01607665336537327, 0.6100866734077991, 0.20336222446926638, 0.10168111223463319, 0.10168111223463319, 0.78338011383332307, 0.15667602276666462, 0.078338011383332309, 0.41801035530634195, 0.41801035530634195, 0.13933678510211397, 0.13933678510211397, 0.48114692534621573, 0.24057346267310786, 0.24057346267310786, 0.12028673133655393, 0.47211133301019376, 0.41763694843209448, 0.0907906409634988, 0.018158128192699761, 0.44629147124785196, 0.29752764749856797, 0.14876382374928399, 0.14876382374928399, 0.39092700008885151, 0.39092700008885151, 0.22338685719362941, 0.055846714298407353, 0.46037574732144643, 0.30691716488096427, 0.15345858244048213, 0.15345858244048213, 0.45188318711894121, 0.3012554580792941, 0.15062772903964705, 0.15062772903964705, 0.69476531275890541, 0.21711416023715793, 0.086845664094863176, 0.021711416023715794, 0.51734825002147455, 0.25867412501073728, 0.10346965000429492, 0.10346965000429492, 0.71287926080949715, 0.21602401842712035, 0.043204803685424072, 0.021602401842712036, 0.55754066203345609, 0.29089078019136838, 0.072722695047842095, 0.072722695047842095, 0.54130181324338988, 0.32806170499599385, 0.11482159674859785, 0.032806170499599385, 0.27802641056619248, 0.55605282113238497, 0.092675470188730819, 0.56830871417653483, 0.22732348567061395, 0.11366174283530697, 0.11366174283530697, 0.26547673632185753, 0.63714416717245803, 0.10619069452874301, 0.053095347264371505, 0.63138313266028645, 0.26307630527511938, 0.087692101758373123, 0.026307630527511935, 0.52801663993136638, 0.26400831996568319, 0.088002773321894392, 0.088002773321894392, 0.23207764585231361, 0.61887372227283632, 0.077359215284104541, 0.077359215284104541, 0.26641701318888905, 0.6216396974407411, 0.088805671062963026, 0.27759503487781012, 0.55519006975562024, 0.092531678292603364, 0.5714479730346177, 0.30001018584317429, 0.085717195955192643, 0.042858597977596322, 0.87402689292936042, 0.079456990266305497, 0.039728495133152748, 0.43473571735484362, 0.21736785867742181, 0.21736785867742181, 0.77152765606138141, 0.15430553121227628, 0.077152765606138138, 0.5018085911396245, 0.33453906075974971, 0.12165056754899989, 0.030412641887249972, 0.42490320955715949, 0.28326880637143964, 0.28326880637143964, 0.49459807988760507, 0.32973205325840338, 0.082433013314600845, 0.082433013314600845, 0.30438628422266556, 0.60877256844533112, 0.07609657105566639, 0.74161262484850843, 0.16480280552189078, 0.082401402760945389, 0.7425234441612456, 0.13922314578023356, 0.092815430520155701, 0.04640771526007785, 0.40824586181648992, 0.27216390787765993, 0.27216390787765993, 0.495218583294948, 0.38910031544603058, 0.082536430549158005, 0.035372755949639144, 0.58218715885685668, 0.31640606459611775, 0.063281212919223548, 0.025312485167689421, 0.78802790775696452, 0.14775523270443086, 0.049251744234810282, 0.049251744234810282, 0.79350223138108611, 0.15870044627621721, 0.039675111569054303, 0.039675111569054303, 0.53567353252472105, 0.26783676626236053, 0.13391838313118026, 0.13391838313118026, 0.5556156337953716, 0.22224625351814864, 0.11112312675907432, 0.11112312675907432, 0.75156663979928384, 0.12526110663321396, 0.062630553316606982, 0.34878256682176068, 0.58130427803626772, 0.038753618535751183, 0.038753618535751183, 0.55485720365134994, 0.31706125922934281, 0.079265314807335702, 0.047559188884401422, 0.68892945409095163, 0.19136929280304213, 0.057410787840912636, 0.057410787840912636, 0.42668790251520161, 0.28445860167680109, 0.14222930083840055, 0.14222930083840055, 0.41966424633331306, 0.27977616422220869, 0.13988808211110434, 0.13988808211110434, 0.2324841947201863, 0.61995785258716352, 0.077494731573395439, 0.077494731573395439, 0.42464015034452079, 0.28309343356301386, 0.28309343356301386, 0.77098250549770586, 0.17791903973023981, 0.059306346576746605, 0.29444492704586417, 0.58888985409172834, 0.098148309015288052, 0.54572428866154621, 0.36804661328336841, 0.076147575162076223, 0.025382525054025405, 0.53328945876081368, 0.36360644915510026, 0.060601074859183375, 0.024240429943673349, 0.37373862021900128, 0.24915908014600083, 0.24915908014600083, 0.72586360630570568, 0.13197520114649194, 0.065987600573245972, 0.75189752552979172, 0.15664531781870661, 0.062658127127482643, 0.031329063563741322, 0.29986113071260018, 0.59972226142520035, 0.11994445228504008, 0.79281940081975888, 0.15856388016395179, 0.079281940081975893, 0.28251946241163706, 0.37669261654884945, 0.28251946241163706, 0.3861252605186265, 0.25741684034575096, 0.25741684034575096, 0.45372757538177405, 0.36298206030541924, 0.12704372110689674, 0.054447309045812887, 0.46890651130420946, 0.23445325565210473, 0.3516798834781571, 0.36907664934143825, 0.52725235620205468, 0.079087853430308191, 0.026362617810102733, 0.30359092193011, 0.60718184386022001, 0.10119697397670332, 0.35043286381648281, 0.35043286381648281, 0.23362190921098855, 0.39344606908611507, 0.26229737939074338, 0.26229737939074338, 0.31753183896560228, 0.59537219806050423, 0.039691479870700284, 0.039691479870700284, 0.60274577605471058, 0.27819035817909715, 0.061820079595354925, 0.046365059696516192, 0.5437202522672171, 0.23302296525737876, 0.19418580438114896, 0.038837160876229793, 0.27693893218517213, 0.62311259741663727, 0.069234733046293032, 0.74917544007813119, 0.14983508801562623, 0.074917544007813114, 0.6095816748929318, 0.2782872863641645, 0.079510653246904137, 0.026503551082301381, 0.49719161959094532, 0.35797796610548066, 0.11932598870182688, 0.019887664783637814, 0.4247694404930768, 0.28317962699538457, 0.28317962699538457, 0.40640768244174436, 0.47057731651149348, 0.085559512092998807, 0.021389878023249702, 0.38603990462265159, 0.51471987283020215, 0.064339984103775269, 0.032169992051887634, 0.5548784683704624, 0.32218749776349431, 0.089496527156526201, 0.026848958146957858, 0.46734831762963125, 0.41815375787914377, 0.086090479563353126, 0.036895919812865628, 0.51215075428016954, 0.25607537714008477, 0.18291098367148914, 0.036582196734297828, 0.27967112543311645, 0.61527647595285628, 0.055934225086623296, 0.055934225086623296, 0.52076907611186318, 0.35802873982690592, 0.075945490266313379, 0.04339742300932193, 0.55008519784206056, 0.1833617326140202, 0.1833617326140202, 0.42502964977022817, 0.28335309984681878, 0.14167654992340939, 0.14167654992340939, 0.61996015916235092, 0.20665338638745032, 0.16532270910996025, 0.47232374921124942, 0.23616187460562471, 0.23616187460562471, 0.078720624868541575, 0.64147084649822439, 0.23225668580108125, 0.088478737448030947, 0.033179526543011609, 0.55464590000489777, 0.3147990243271041, 0.10493300810903471, 0.029980859459724202, 0.4597501290216971, 0.40458011353909346, 0.091950025804339419, 0.036780010321735765, 0.260604366759637, 0.60807685577248638, 0.086868122253212332, 0.55379861881098646, 0.31151172308117991, 0.10383724102705998, 0.034612413675686654, 0.58271572011207884, 0.33298041149261648, 0.033298041149261645, 0.049947061723892468, 0.56108544991203568, 0.34600269411242202, 0.06545996915640416, 0.03740569666080238, 0.28623008847399173, 0.57246017694798346, 0.071557522118497932, 0.707232510076518, 0.19987005719553769, 0.061498479137088523, 0.030749239568544261, 0.76725113185122074, 0.13950020579113104, 0.069750102895565519, 0.73864829143634869, 0.18466207285908717, 0.061554024286362391, 0.8131345272530982, 0.16262690545061964, 0.054208968483539878, 0.054208968483539878, 0.44474345943218491, 0.40238693948626253, 0.10589129986480593, 0.042356519945922377, 0.34665727424128712, 0.41598872908954454, 0.20799436454477227, 0.42448525147024774, 0.28299016764683183, 0.28299016764683183, 0.28766340051212785, 0.63285948112668133, 0.057532680102425578, 0.74449527947741934, 0.14889905589548386, 0.074449527947741928, 0.42501729563271518, 0.28334486375514345, 0.28334486375514345, 0.75813990690426303, 0.14440760131509772, 0.036101900328774431, 0.036101900328774431, 0.54025876533760564, 0.1800862551125352, 0.27012938266880282, 0.090043127556267602, 0.30789267110700502, 0.57180067491300923, 0.087969334602001431, 0.043984667301000716, 0.34727158966695204, 0.34727158966695204, 0.26045369225021403, 0.08681789741673801, 0.38559636479814557, 0.38559636479814557, 0.19279818239907279, 0.064266060799690938, 0.53325469653430901, 0.30471696944817661, 0.11426886354306623, 0.038089621181022076, 0.38950783503158282, 0.29213087627368711, 0.29213087627368711, 0.097376958757895704, 0.45604185103907741, 0.30402790069271823, 0.15201395034635912, 0.15201395034635912, 0.47392784458965354, 0.29620490286853346, 0.23696392229482677, 0.059240980573706692, 0.5061863345587635, 0.36292605119307575, 0.10505754113483771, 0.028652056673137558, 0.44607664763137056, 0.29738443175424706, 0.14869221587712353, 0.14869221587712353, 0.44304846491025512, 0.29536564327350345, 0.14768282163675173, 0.073841410818375863, 0.56786717616817672, 0.31413928894409776, 0.084575962408026326, 0.024164560688007521, 0.45566260325409458, 0.30377506883606303, 0.15188753441803152, 0.15188753441803152, 0.5648482655418392, 0.21724933290070739, 0.14483288860047158, 0.057933155440188636, 0.38538185408387932, 0.47431612810323609, 0.08893427401935676, 0.029644758006452256, 0.35141543475852949, 0.54664623184660144, 0.078092318835228783, 0.039046159417614391, 0.29151872239521176, 0.58303744479042352, 0.097172907465070582, 0.72209699150730611, 0.19441072848273624, 0.055545922423638927, 0.027772961211819464, 0.64362223699941612, 0.28963000664973726, 0.048271667774956208, 0.016090555924985404, 0.38332502990137224, 0.19166251495068612, 0.28749377242602914, 0.09583125747534306, 0.43950497365709085, 0.34183720173329291, 0.14650165788569697, 0.097667771923797969, 0.52203181704677759, 0.32243141641124501, 0.092123261831784278, 0.046061630915892139, 0.37551514205691422, 0.37551514205691422, 0.1251717140189714, 0.1251717140189714, 0.42496137807045653, 0.28330758538030437, 0.28330758538030437, 0.56772685746624629, 0.28386342873312315, 0.13101389018451837, 0.021835648364086396, 0.39789772659211564, 0.47747727191053879, 0.10610606042456418, 0.026526515106141044, 0.63197012299319233, 0.26232722086509869, 0.07154378750866329, 0.02384792916955443, 0.52248135254871786, 0.26124067627435893, 0.18660048305311353, 0.037320096610622709, 0.33950064362125121, 0.59412612633718953, 0.042437580452656401, 0.45193426437555678, 0.30128950958370454, 0.15064475479185227, 0.15064475479185227, 0.52594693649412549, 0.31078682611016506, 0.095626715726204625, 0.047813357863102313, 0.48070998366927475, 0.38456798693541977, 0.096141996733854942, 0.032047332244618316, 0.54294910963154686, 0.34456385803540474, 0.083530632251007209, 0.031323987094127703, 0.42315999727639003, 0.28210666485092667, 0.14105333242546333, 0.14105333242546333, 0.38901996075021145, 0.25934664050014095, 0.25934664050014095, 0.38265554763477122, 0.38265554763477122, 0.12755184921159041, 0.12755184921159041, 0.80056366375521137, 0.12316364057772483, 0.061581820288862416, 0.28305289963117952, 0.56610579926235904, 0.094350966543726517, 0.76087998271943103, 0.1342729381269584, 0.089515292084638945, 0.51352054580491746, 0.36248509115641231, 0.090621272789103077, 0.030207090929701023, 0.54531148133950669, 0.33146384159852366, 0.09623143788344235, 0.032077145961147455, 0.76202653248207652, 0.17585227672663306, 0.058617425575544349, 0.5539769866656562, 0.32516040521679823, 0.096343823767940207, 0.024085955941985052, 0.72927526787614394, 0.18231881696903598, 0.05209109056258171, 0.026045545281290855, 0.21751296181192281, 0.59816064498278765, 0.10875648090596141, 0.054378240452980703, 0.78774254075421613, 0.12119116011603326, 0.060595580058016629, 0.67249546375091862, 0.21171153488454844, 0.0871753378936376, 0.024907239398182169, 0.78967956261247085, 0.15793591252249417, 0.078967956261247085, 0.55902471699346579, 0.30893471202270478, 0.088267060577915654, 0.029422353525971886, 0.24639228377940245, 0.65704609007840653, 0.082130761259800816, 0.64103575398013379, 0.27065954056938984, 0.056980955909345231, 0.028490477954672615, 0.60933646045908763, 0.31143863534575589, 0.067704051162120846, 0.013540810232424169, 0.70387062239457876, 0.18950362910623275, 0.054143894030352219, 0.027071947015176109, 0.77033104413887099, 0.16048563419559814, 0.032097126839119625, 0.53306480328013572, 0.35537653552009046, 0.07107530710401809, 0.035537653552009045, 0.51048466724134278, 0.3344554716408798, 0.12322043692032413, 0.035205839120092605, 0.25034561495391022, 0.66758830654376056, 0.08344853831797007, 0.71578319544204116, 0.20877009867059534, 0.059648599620170099, 0.02982429981008505, 0.20580321519649938, 0.48020750212516522, 0.27440428692866586, 0.64897576763039189, 0.22419162881777174, 0.10619603470315503, 0.035398678234385014, 0.25160101137213092, 0.60384242729311421, 0.10064040454885237, 0.050320202274426185, 0.74257767292978949, 0.18564441823244737, 0.053041262352127826, 0.026520631176063913, 0.63612695126535423, 0.27035395428777553, 0.079515868908169279, 0.015903173781633854, 0.61313359741898155, 0.30055568500930469, 0.072133364402233113, 0.024044454800744373, 0.52279658149491004, 0.30355930538414133, 0.15177965269207067, 0.016864405854674518, 0.80143370784556811, 0.12654216439666865, 0.042180721465556216, 0.042180721465556216, 0.83118864479693411, 0.09778689938787459, 0.048893449693937295, 0.66007553523760509, 0.22631161208146461, 0.075437204027154869, 0.018859301006788717, 0.42688850897355435, 0.21344425448677717, 0.21344425448677717, 0.72690396783945888, 0.22366275933521809, 0.055915689833804523, 0.027957844916902262, 0.41966320569914922, 0.27977547046609946, 0.27977547046609946, 0.4394810892999238, 0.39064985715548783, 0.14649369643330792, 0.02441561607221799, 0.39077571153213309, 0.26051714102142209, 0.26051714102142209, 0.2815393994080595, 0.563078798816119, 0.093846466469353171, 0.41108289548164167, 0.20554144774082084, 0.30831217161123126, 0.10277072387041042, 0.49753689836441101, 0.41259157425341397, 0.072810277809425991, 0.024270092603141998, 0.38265511742419439, 0.45440295194123087, 0.095663779356048598, 0.047831889678024299, 0.77608414001322268, 0.14551577625247927, 0.048505258750826417, 0.34187486403225681, 0.34187486403225681, 0.22791657602150456, 0.44347459664302247, 0.29564973109534831, 0.14782486554767416, 0.14782486554767416, 0.5865479643202427, 0.31052539287542258, 0.080506583338072521, 0.023001880953735006, 0.27959984220783052, 0.65239963181827121, 0.093199947402610173, 0.58110474238556087, 0.3320598527917491, 0.069179135998281058, 0.027671654399312424, 0.2700724248335975, 0.65589017459587962, 0.038581774976228216, 0.038581774976228216, 0.31464969694678768, 0.62929939389357537, 0.078662424236696921, 0.078662424236696921, 0.37544433072006428, 0.25029622048004285, 0.25029622048004285, 0.12514811024002143, 0.51302853281805338, 0.37751156188498269, 0.077438269104611837, 0.029039350914229441, 0.64073231177112677, 0.28129711248488493, 0.062510469441085542, 0.031255234720542771, 0.50683564817798754, 0.36041646092656887, 0.090104115231642218, 0.033789043211865835, 0.47173841117459597, 0.42751293512697758, 0.073709126746030612, 0.044225476047618374, 0.75690885676772501, 0.17661206657913583, 0.050460590451181668, 0.025230295225590834, 0.33517289333802475, 0.55862148889670793, 0.055862148889670789, 0.055862148889670789, 0.43893128023277789, 0.32919846017458343, 0.21946564011638894, 0.054866410029097236, 0.37134489810990728, 0.37134489810990728, 0.12378163270330242, 0.12378163270330242, 0.63330375895163515, 0.27141589669355792, 0.06462283254608521, 0.038773699527651133, 0.75530036228208031, 0.14161881792789005, 0.047206272642630019, 0.50932127889411116, 0.37219631919185042, 0.058767839872397434, 0.058767839872397434, 0.34014334688022285, 0.54422935500835656, 0.06802866937604457, 0.034014334688022285, 0.50904226059649271, 0.36764163265302252, 0.11312050235477616, 0.028280125588694041, 0.44409356518796883, 0.29606237679197922, 0.22204678259398442, 0.074015594197994805, 0.34006385782528259, 0.55260376896608421, 0.085015964456320647, 0.042507982228160324, 0.59915331747110312, 0.28531110355766814, 0.085593331067300438, 0.028531110355766814, 0.35070024360113189, 0.2338001624007546, 0.35070024360113189, 0.1169000812003773, 0.57574954470637218, 0.20936347080231715, 0.10468173540115858, 0.10468173540115858, 0.55422195893371562, 0.27711097946685781, 0.1385554897334289, 0.1385554897334289, 0.39558261362350972, 0.35962055783955427, 0.14384822313582171, 0.10788616735186629, 0.25637896016723272, 0.68367722711262058, 0.085459653389077572, 0.45395694714818513, 0.30263796476545674, 0.15131898238272837, 0.15131898238272837, 0.4811440700317236, 0.37422316558022944, 0.10692090445149413, 0.017820150741915688, 0.7067085399994939, 0.19100230810797131, 0.076400923243188534, 0.019100230810797134, 0.58781634101608393, 0.31350204854191144, 0.065312926779564878, 0.03918775606773893, 0.45700962169974313, 0.3046730811331621, 0.15233654056658105, 0.15233654056658105, 0.78637245710037984, 0.14297681038188723, 0.071488405190943613, 0.65556456521689799, 0.24393100101093876, 0.06098275025273469, 0.045737062689551022, 0.64269150372936545, 0.23964767935671252, 0.087144610675168196, 0.032679229003188072, 0.25902170034455357, 0.60438396747062506, 0.086340566781517858, 0.41978056777880962, 0.27985371185253971, 0.27985371185253971, 0.51754812160466845, 0.31052887296280107, 0.10350962432093369, 0.069006416213955798, 0.28822820600965043, 0.57645641201930087, 0.096076068669883469, 0.65186329713064917, 0.22349598758765116, 0.11174799379382558, 0.018624665632304263, 0.46737808280565607, 0.44512198362443439, 0.066768297543665159, 0.02225609918122172, 0.5109834213180372, 0.34065561421202478, 0.042581951776503098, 0.085163903553006196, 0.58731655346440359, 0.30048753898178787, 0.095609671494205239, 0.013658524499172178, 0.49524592700153969, 0.36684883481595532, 0.091712208703988829, 0.0550273252223933, 0.36862048895620048, 0.52660069850885782, 0.10532013970177156, 0.026330034925442891, 0.79479879531671715, 0.17031402756786798, 0.056771342522622656, 0.44423982047881705, 0.29615988031921137, 0.14807994015960568, 0.14807994015960568, 0.44250827188262493, 0.4223942595243238, 0.10057006179150567, 0.040228024716602265, 0.64891036919505196, 0.25614882994541521, 0.068306354652110726, 0.017076588663027682, 0.34947413782483094, 0.34947413782483094, 0.26210560336862321, 0.087368534456207736, 0.38499965129314828, 0.28874973846986118, 0.28874973846986118, 0.09624991282328707, 0.50602252156662331, 0.25301126078331165, 0.12650563039165583, 0.12650563039165583, 0.43060507703104695, 0.30757505502217641, 0.12303002200887056, 0.12303002200887056, 0.43259823428663541, 0.41529430491517, 0.1038235762287925, 0.034607858742930833, 0.69086083306167267, 0.19928677876779019, 0.079714711507116065, 0.026571570502372025, 0.59927850958971884, 0.31212422374464521, 0.062424844748929044, 0.024969937899571616, 0.42453729608138924, 0.28302486405425947, 0.28302486405425947, 0.5445877486202596, 0.21783509944810386, 0.10891754972405193, 0.10891754972405193, 0.44276130240398476, 0.32200821993017076, 0.12075308247381403, 0.08050205498254269, 0.58080814436769912, 0.22338774783373044, 0.17871019826698434, 0.59075260649636452, 0.31574708278253966, 0.061112338603072192, 0.020370779534357397, 0.36003662894927574, 0.36003662894927574, 0.12001220964975857, 0.24002441929951715, 0.47041157708917725, 0.37240916519559863, 0.11760289427229431, 0.058801447136147156], \"Term\": [\"'d\", \"'d\", \"'d\", \"'d\", \"'not\", \"'not\", \"'not\", \"10\", \"10\", \"10\", \"10\", \"10+\", \"10+\", \"10+\", \"10+\", \"100\", \"100\", \"100\", \"100\", \"2015\", \"2015\", \"2015\", \"2015\", \"226\", \"226\", \"226\", \"260lbs\", \"260lbs\", \"260lbs\", \"260lbs\", \"40\", \"40\", \"40\", \"40\", \"5\", \"5\", \"5\", \"5\", \"700\", \"700\", \"700\", \"700\", \"8\", \"8\", \"8\", \"8\", \"80\", \"80\", \"80\", \"80\", \"\\\\u2014\", \"\\\\u2014\", \"\\\\u2014\", \"\\\\u2014\", \"able\", \"able\", \"able\", \"able\", \"advertised\", \"advertised\", \"advertised\", \"advertised\", \"ago\", \"ago\", \"ago\", \"ago\", \"almost\", \"almost\", \"almost\", \"almost\", \"also\", \"also\", \"also\", \"also\", \"amazed\", \"amazed\", \"amazed\", \"aside\", \"aside\", \"aside\", \"aside\", \"baby\", \"baby\", \"baby\", \"baby\", \"back\", \"back\", \"back\", \"back\", \"bag\", \"bag\", \"bag\", \"bag\", \"bargain\", \"bargain\", \"bargain\", \"bargain\", \"beauty\", \"beauty\", \"beauty\", \"benefits\", \"benefits\", \"benefits\", \"better\", \"better\", \"better\", \"better\", \"beware\", \"beware\", \"beware\", \"blend\", \"blend\", \"blend\", \"bothered\", \"bothered\", \"bothered\", \"box\", \"box\", \"box\", \"box\", \"boyfriends\", \"boyfriends\", \"boyfriends\", \"breeze\", \"breeze\", \"breeze\", \"breeze\", \"cal\", \"cal\", \"cal\", \"calls\", \"calls\", \"calls\", \"choice\", \"choice\", \"choice\", \"choice\", \"collapses\", \"collapses\", \"collapses\", \"comfortable\", \"comfortable\", \"comfortable\", \"comfortable\", \"company\", \"company\", \"company\", \"company\", \"complain\", \"complain\", \"complain\", \"complain\", \"complaint\", \"complaint\", \"complaint\", \"complaint\", \"contacting\", \"contacting\", \"contacting\", \"contacting\", \"convenience\", \"convenience\", \"convenience\", \"convenience\", \"correct\", \"correct\", \"correct\", \"couch\", \"couch\", \"couch\", \"couch\", \"could\", \"could\", \"could\", \"could\", \"couple\", \"couple\", \"couple\", \"couple\", \"coupled\", \"coupled\", \"coupled\", \"coupled\", \"coworker\", \"coworker\", \"coworker\", \"coworker\", \"crafted\", \"crafted\", \"crafted\", \"crafted\", \"crippling\", \"crippling\", \"crippling\", \"cushion\", \"cushion\", \"cushion\", \"cushioning\", \"cushioning\", \"cushioning\", \"customer\", \"customer\", \"customer\", \"customer\", \"days\", \"days\", \"days\", \"days\", \"deflated\", \"deflated\", \"deflated\", \"description\", \"description\", \"description\", \"difference\", \"difference\", \"difference\", \"difference\", \"discomfort\", \"discomfort\", \"discomfort\", \"discs\", \"discs\", \"discs\", \"dogs\", \"dogs\", \"dogs\", \"drool\", \"drool\", \"drool\", \"easy\", \"easy\", \"easy\", \"easy\", \"ethical\", \"ethical\", \"ethical\", \"excellent\", \"excellent\", \"excellent\", \"excellent\", \"expenses\", \"expenses\", \"expenses\", \"experiencing\", \"experiencing\", \"experiencing\", \"experiment\", \"experiment\", \"experiment\", \"fantastic\", \"fantastic\", \"fantastic\", \"fantastic\", \"far\", \"far\", \"far\", \"far\", \"fast\", \"fast\", \"fast\", \"fast\", \"feather\", \"feather\", \"feather\", \"feb\", \"feb\", \"feb\", \"feel\", \"feel\", \"feel\", \"feel\", \"feels\", \"feels\", \"feels\", \"feels\", \"fellas\", \"fellas\", \"fellas\", \"felt\", \"felt\", \"felt\", \"felt\", \"finally\", \"finally\", \"finally\", \"finally\", \"firm\", \"firm\", \"firm\", \"firm\", \"first\", \"first\", \"first\", \"first\", \"fit\", \"fit\", \"fit\", \"fit\", \"five\", \"five\", \"five\", \"five\", \"foam\", \"foam\", \"foam\", \"foam\", \"following\", \"following\", \"following\", \"fought\", \"fought\", \"fought\", \"fought\", \"friends\", \"friends\", \"friends\", \"fun\", \"fun\", \"fun\", \"fun\", \"get\", \"get\", \"get\", \"get\", \"give\", \"give\", \"give\", \"give\", \"going\", \"going\", \"going\", \"going\", \"goldilocks\", \"goldilocks\", \"goldilocks\", \"good\", \"good\", \"good\", \"good\", \"got\", \"got\", \"got\", \"got\", \"great\", \"great\", \"great\", \"great\", \"happen\", \"happen\", \"happen\", \"hard\", \"hard\", \"hard\", \"hard\", \"hassle\", \"hassle\", \"hassle\", \"helping\", \"helping\", \"helping\", \"hesitate\", \"hesitate\", \"hesitate\", \"hesitate\", \"hot\", \"hot\", \"hot\", \"hot\", \"hour\", \"hour\", \"hour\", \"husbands\", \"husbands\", \"husbands\", \"hype\", \"hype\", \"hype\", \"i.\", \"i.\", \"i.\", \"importantly\\\\u2013\\\\u2013it\", \"importantly\\\\u2013\\\\u2013it\", \"importantly\\\\u2013\\\\u2013it\", \"impressed\", \"impressed\", \"impressed\", \"impressed\", \"improved\", \"improved\", \"improved\", \"improved\", \"incredibly\", \"incredibly\", \"incredibly\", \"incredibly\", \"isn\\\\'t\", \"isn\\\\'t\", \"isn\\\\'t\", \"isn\\\\'t\", \"kids\", \"kids\", \"kids\", \"kids\", \"king\", \"king\", \"king\", \"king\", \"larger\", \"larger\", \"larger\", \"larger\", \"leaf\", \"leaf\", \"leaf\", \"leaf\", \"light\", \"light\", \"light\", \"light\", \"like\", \"like\", \"like\", \"like\", \"limbs\", \"limbs\", \"limbs\", \"limbs\", \"literally\", \"literally\", \"literally\", \"literally\", \"little\", \"little\", \"little\", \"little\", \"loom\", \"loom\", \"loom\", \"loom\", \"love\", \"love\", \"love\", \"love\", \"loved\", \"loved\", \"loved\", \"loved\", \"low\", \"low\", \"low\", \"low\", \"maintaining\", \"maintaining\", \"maintaining\", \"makes\", \"makes\", \"makes\", \"makes\", \"many\", \"many\", \"many\", \"many\", \"master\", \"master\", \"master\", \"master\", \"matress\", \"matress\", \"matress\", \"matress\", \"memory\", \"memory\", \"memory\", \"memory\", \"missed\", \"missed\", \"missed\", \"missed\", \"mood\", \"mood\", \"mood\", \"morning\", \"morning\", \"morning\", \"morning\", \"move\", \"move\", \"move\", \"move\", \"much\", \"much\", \"much\", \"much\", \"neck\", \"neck\", \"neck\", \"neck\", \"negative\", \"negative\", \"negative\", \"neighbor\", \"neighbor\", \"neighbor\", \"neighbor\", \"never\", \"never\", \"never\", \"never\", \"new\", \"new\", \"new\", \"new\", \"night\", \"night\", \"night\", \"night\", \"no-brainer\", \"no-brainer\", \"no-brainer\", \"no-brainer\", \"no-hassle\", \"no-hassle\", \"no-hassle\", \"non\", \"non\", \"non\", \"non\", \"nonetheless\", \"nonetheless\", \"nonetheless\", \"odder\", \"odder\", \"odder\", \"offers\", \"offers\", \"offers\", \"old\", \"old\", \"old\", \"old\", \"one\", \"one\", \"one\", \"one\", \"owning\", \"owning\", \"owning\", \"pain\", \"pain\", \"pain\", \"pain\", \"pains\", \"pains\", \"pains\", \"pains\", \"pick\", \"pick\", \"pick\", \"pick\", \"preferred\", \"preferred\", \"preferred\", \"price\", \"price\", \"price\", \"price\", \"prime-\", \"prime-\", \"prime-\", \"product\", \"product\", \"product\", \"product\", \"product.\", \"product.\", \"product.\", \"purchase\", \"purchase\", \"purchase\", \"purchase\", \"purchased\", \"purchased\", \"purchased\", \"purchased\", \"reading\", \"reading\", \"reading\", \"reading\", \"realized\", \"realized\", \"realized\", \"really\", \"really\", \"really\", \"really\", \"recommend\", \"recommend\", \"recommend\", \"recommend\", \"remains\", \"remains\", \"remains\", \"replace\", \"replace\", \"replace\", \"replace\", \"reports\", \"reports\", \"reports\", \"return\", \"return\", \"return\", \"return\", \"returned\", \"returned\", \"returned\", \"returned\", \"returning\", \"returning\", \"returning\", \"returning\", \"review\", \"review\", \"review\", \"review\", \"reviews\", \"reviews\", \"reviews\", \"reviews\", \"right\", \"right\", \"right\", \"right\", \"roll\", \"roll\", \"roll\", \"roll\", \"rough\", \"rough\", \"rough\", \"said\", \"said\", \"said\", \"said\", \"saturday\", \"saturday\", \"saturday\", \"saying\", \"saying\", \"saying\", \"saying\", \"sciatic\", \"sciatic\", \"sciatic\", \"seems\", \"seems\", \"seems\", \"seems\", \"selecting\", \"selecting\", \"selecting\", \"sending\", \"sending\", \"sending\", \"sense\", \"sense\", \"sense\", \"sense\", \"service\", \"service\", \"service\", \"service\", \"set\", \"set\", \"set\", \"set\", \"ship\", \"ship\", \"ship\", \"shocked\", \"shocked\", \"shocked\", \"shut\", \"shut\", \"shut\", \"shut\", \"side\", \"side\", \"side\", \"side\", \"side-sleepers\", \"side-sleepers\", \"side-sleepers\", \"since\", \"since\", \"since\", \"since\", \"sinking\", \"sinking\", \"sinking\", \"sinking\", \"sits\", \"sits\", \"sits\", \"sits\", \"slam\", \"slam\", \"slam\", \"slam\", \"sleep\", \"sleep\", \"sleep\", \"sleep\", \"sleeper\", \"sleeper\", \"sleeper\", \"sleeper\", \"sleeping\", \"sleeping\", \"sleeping\", \"sleeping\", \"slept\", \"slept\", \"slept\", \"slept\", \"small\", \"small\", \"small\", \"small\", \"smelled\", \"smelled\", \"smelled\", \"smelled\", \"smells\", \"smells\", \"smells\", \"smells\", \"snore\", \"snore\", \"snore\", \"snore\", \"soft\", \"soft\", \"soft\", \"soft\", \"sometimes\", \"sometimes\", \"sometimes\", \"spring\", \"spring\", \"spring\", \"spring\", \"stiff\", \"stiff\", \"stiff\", \"stiff\", \"still\", \"still\", \"still\", \"still\", \"stopped\", \"stopped\", \"stopped\", \"stopped\", \"strong\", \"strong\", \"strong\", \"strong\", \"support\", \"support\", \"support\", \"support\", \"sweat\", \"sweat\", \"sweat\", \"sweat\", \"taste\", \"taste\", \"taste\", \"taste\", \"teenager\", \"teenager\", \"teenager\", \"teenager\", \"tempurpedic\", \"tempurpedic\", \"tempurpedic\", \"tempurpedic\", \"tempurpedics\", \"tempurpedics\", \"tempurpedics\", \"tendinitis\", \"tendinitis\", \"tendinitis\", \"tendinitis\", \"thing\", \"thing\", \"thing\", \"thing\", \"though\", \"though\", \"though\", \"though\", \"time\", \"time\", \"time\", \"time\", \"tissue\", \"tissue\", \"tissue\", \"tissue\", \"to.\", \"to.\", \"to.\", \"top\", \"top\", \"top\", \"top\", \"topper\", \"topper\", \"topper\", \"topper\", \"tops\", \"tops\", \"tops\", \"trade\", \"trade\", \"trade\", \"traditional\", \"traditional\", \"traditional\", \"traditional\", \"trailer\", \"trailer\", \"trailer\", \"trial\", \"trial\", \"trial\", \"trial\", \"tried\", \"tried\", \"tried\", \"tried\", \"turning\", \"turning\", \"turning\", \"turning\", \"us\", \"us\", \"us\", \"us\", \"used\", \"used\", \"used\", \"used\", \"using\", \"using\", \"using\", \"using\", \"visiting\", \"visiting\", \"visiting\", \"visitors\", \"visitors\", \"visitors\", \"visitors\", \"want\", \"want\", \"want\", \"want\", \"wanted\", \"wanted\", \"wanted\", \"wanted\", \"wants\", \"wants\", \"wants\", \"wants\", \"warmer\", \"warmer\", \"warmer\", \"warmer\", \"washed\", \"washed\", \"washed\", \"washed\", \"we\\\\\", \"we\\\\\", \"we\\\\\", \"we\\\\\", \"week\", \"week\", \"week\", \"week\", \"weeks\", \"weeks\", \"weeks\", \"weeks\", \"well\", \"well\", \"well\", \"well\", \"wives\", \"wives\", \"wives\", \"wonderfully\", \"wonderfully\", \"wonderfully\", \"wonderfully\", \"works\", \"works\", \"works\", \"works\", \"worst\", \"worst\", \"worst\", \"would\", \"would\", \"would\", \"would\", \"x\", \"x\", \"x\", \"x\", \"years\", \"years\", \"years\", \"years\"]}, \"mdsDat\": {\"y\": [0.006909944937186799, -0.013778595799137918, 0.0079753954652927381, -0.0011067446033416212], \"cluster\": [1, 1, 1, 1], \"Freq\": [54.081469982141236, 32.487694625946069, 9.5055859550787325, 3.925249436833949], \"topics\": [1, 2, 3, 4], \"x\": [-0.012936916551833478, -0.0045843054681421929, 0.0050230019064503376, 0.012498220113525312]}, \"R\": 30, \"lambda.step\": 0.01, \"tinfo\": {\"Category\": [\"Default\", \"Default\", \"Default\", \"Default\", \"Default\", \"Default\", \"Default\", \"Default\", \"Default\", \"Default\", \"Default\", \"Default\", \"Default\", \"Default\", \"Default\", \"Default\", \"Default\", \"Default\", \"Default\", \"Default\", \"Default\", \"Default\", \"Default\", \"Default\", \"Default\", \"Default\", \"Default\", \"Default\", \"Default\", \"Default\", \"Topic1\", \"Topic1\", \"Topic1\", \"Topic1\", \"Topic1\", \"Topic1\", \"Topic1\", \"Topic1\", \"Topic1\", \"Topic1\", \"Topic1\", \"Topic1\", \"Topic1\", \"Topic1\", \"Topic1\", \"Topic1\", \"Topic1\", \"Topic1\", \"Topic1\", \"Topic1\", \"Topic1\", \"Topic1\", \"Topic1\", \"Topic1\", \"Topic1\", \"Topic1\", \"Topic1\", \"Topic1\", \"Topic1\", \"Topic1\", \"Topic1\", \"Topic1\", \"Topic1\", \"Topic1\", \"Topic1\", \"Topic1\", \"Topic1\", \"Topic1\", \"Topic1\", \"Topic1\", \"Topic1\", \"Topic1\", \"Topic1\", \"Topic1\", \"Topic1\", \"Topic1\", \"Topic1\", \"Topic1\", \"Topic1\", \"Topic1\", \"Topic1\", \"Topic1\", \"Topic1\", \"Topic1\", \"Topic1\", \"Topic1\", \"Topic1\", \"Topic1\", \"Topic1\", \"Topic1\", \"Topic1\", \"Topic1\", \"Topic1\", \"Topic1\", \"Topic1\", \"Topic1\", \"Topic1\", \"Topic1\", \"Topic1\", \"Topic1\", \"Topic1\", \"Topic1\", \"Topic1\", \"Topic1\", \"Topic1\", \"Topic1\", \"Topic1\", \"Topic1\", \"Topic1\", \"Topic1\", \"Topic2\", \"Topic2\", \"Topic2\", \"Topic2\", \"Topic2\", \"Topic2\", \"Topic2\", \"Topic2\", \"Topic2\", \"Topic2\", \"Topic2\", \"Topic2\", \"Topic2\", \"Topic2\", \"Topic2\", \"Topic2\", \"Topic2\", \"Topic2\", \"Topic2\", \"Topic2\", \"Topic2\", \"Topic2\", \"Topic2\", \"Topic2\", \"Topic2\", \"Topic2\", \"Topic2\", \"Topic2\", \"Topic2\", \"Topic2\", \"Topic2\", \"Topic2\", \"Topic2\", \"Topic2\", \"Topic2\", \"Topic2\", \"Topic2\", \"Topic2\", \"Topic2\", \"Topic2\", \"Topic2\", \"Topic2\", \"Topic2\", \"Topic2\", \"Topic2\", \"Topic2\", \"Topic2\", \"Topic2\", \"Topic2\", \"Topic2\", \"Topic2\", \"Topic2\", \"Topic2\", \"Topic2\", \"Topic2\", \"Topic2\", \"Topic2\", \"Topic2\", \"Topic2\", \"Topic2\", \"Topic2\", \"Topic2\", \"Topic2\", \"Topic2\", \"Topic2\", \"Topic2\", \"Topic2\", \"Topic2\", \"Topic2\", \"Topic2\", \"Topic2\", \"Topic2\", \"Topic2\", \"Topic2\", \"Topic2\", \"Topic2\", \"Topic2\", \"Topic2\", \"Topic3\", \"Topic3\", \"Topic3\", \"Topic3\", \"Topic3\", \"Topic3\", \"Topic3\", \"Topic3\", \"Topic3\", \"Topic3\", \"Topic3\", \"Topic3\", \"Topic3\", \"Topic3\", \"Topic3\", \"Topic3\", \"Topic3\", \"Topic3\", \"Topic3\", \"Topic3\", \"Topic3\", \"Topic3\", \"Topic3\", \"Topic3\", \"Topic3\", \"Topic3\", \"Topic3\", \"Topic3\", \"Topic3\", \"Topic3\", \"Topic3\", \"Topic3\", \"Topic3\", \"Topic3\", \"Topic3\", \"Topic3\", \"Topic3\", \"Topic3\", \"Topic3\", \"Topic3\", \"Topic3\", \"Topic3\", \"Topic3\", \"Topic3\", \"Topic3\", \"Topic3\", \"Topic3\", \"Topic3\", \"Topic3\", \"Topic3\", \"Topic3\", \"Topic3\", \"Topic3\", \"Topic3\", \"Topic3\", \"Topic3\", \"Topic3\", \"Topic3\", \"Topic3\", \"Topic3\", \"Topic3\", \"Topic3\", \"Topic3\", \"Topic3\", \"Topic3\", \"Topic3\", \"Topic3\", \"Topic3\", \"Topic3\", \"Topic3\", \"Topic3\", \"Topic3\", \"Topic3\", \"Topic3\", \"Topic3\", \"Topic3\", \"Topic3\", \"Topic3\", \"Topic3\", \"Topic3\", \"Topic3\", \"Topic4\", \"Topic4\", \"Topic4\", \"Topic4\", \"Topic4\", \"Topic4\", \"Topic4\", \"Topic4\", \"Topic4\", \"Topic4\", \"Topic4\", \"Topic4\", \"Topic4\", \"Topic4\", \"Topic4\", \"Topic4\", \"Topic4\", \"Topic4\", \"Topic4\", \"Topic4\", \"Topic4\", \"Topic4\", \"Topic4\", \"Topic4\", \"Topic4\", \"Topic4\", \"Topic4\", \"Topic4\", \"Topic4\", \"Topic4\", \"Topic4\", \"Topic4\", \"Topic4\", \"Topic4\", \"Topic4\", \"Topic4\", \"Topic4\", \"Topic4\", \"Topic4\", \"Topic4\", \"Topic4\", \"Topic4\", \"Topic4\", \"Topic4\", \"Topic4\", \"Topic4\", \"Topic4\", \"Topic4\", \"Topic4\", \"Topic4\", \"Topic4\", \"Topic4\", \"Topic4\", \"Topic4\", \"Topic4\", \"Topic4\", \"Topic4\", \"Topic4\", \"Topic4\", \"Topic4\", \"Topic4\", \"Topic4\", \"Topic4\", \"Topic4\", \"Topic4\", \"Topic4\", \"Topic4\", \"Topic4\", \"Topic4\", \"Topic4\", \"Topic4\", \"Topic4\", \"Topic4\", \"Topic4\"], \"Term\": [\"love\", \"foam\", \"like\", \"sleeping\", \"great\", \"memory\", \"comfortable\", \"firm\", \"one\", \"far\", \"return\", \"sleep\", \"got\", \"good\", \"topper\", \"back\", \"night\", \"easy\", \"get\", \"first\", \"couple\", \"could\", \"box\", \"years\", \"really\", \"price\", \"spring\", \"soft\", \"better\", \"weeks\", \"beware\", \"rough\", \"nonetheless\", \"complain\", \"hesitate\", \"cushion\", \"roll\", \"visiting\", \"to.\", \"complaint\", \"i.\", \"realized\", \"owning\", \"bothered\", \"sometimes\", \"hassle\", \"impressed\", \"226\", \"correct\", \"prime-\", \"ship\", \"discs\", \"'not\", \"preferred\", \"offers\", \"feb\", \"calls\", \"description\", \"helping\", \"small\", \"returning\", \"difference\", \"makes\", \"hard\", \"pains\", \"choice\", \"though\", \"weeks\", \"ago\", \"replace\", \"saying\", \"price\", \"reading\", \"couple\", \"back\", \"get\", \"return\", \"topper\", \"top\", \"much\", \"able\", \"soft\", \"purchase\", \"wanted\", \"said\", \"would\", \"many\", \"reviews\", \"100\", \"review\", \"firm\", \"well\", \"sleeper\", \"great\", \"side\", \"feel\", \"purchased\", \"company\", \"little\", \"time\", \"night\", \"one\", \"like\", \"good\", \"sleep\", \"support\", \"foam\", \"pain\", \"really\", \"sleeping\", \"tempurpedics\", \"sinking\", \"goldilocks\", \"bargain\", \"crafted\", \"beauty\", \"product.\", \"remains\", \"feather\", \"side-sleepers\", \"hype\", \"tops\", \"pick\", \"trailer\", \"baby\", \"sits\", \"happen\", \"cushioning\", \"amazed\", \"returned\", \"sending\", \"odder\", \"maintaining\", \"five\", \"expenses\", \"cal\", \"negative\", \"fantastic\", \"benefits\", \"smelled\", \"couch\", \"discomfort\", \"stiff\", \"'d\", \"incredibly\", \"excellent\", \"using\", \"low\", \"strong\", \"felt\", \"finally\", \"first\", \"service\", \"move\", \"sleep\", \"slept\", \"comfortable\", \"set\", \"like\", \"week\", \"great\", \"loved\", \"foam\", \"5\", \"days\", \"sleeping\", \"night\", \"firm\", \"really\", \"customer\", \"want\", \"tried\", \"one\", \"would\", \"still\", \"new\", \"pain\", \"going\", \"side\", \"good\", \"little\", \"back\", \"old\", \"since\", \"company\", \"well\", \"reviews\", \"time\", \"sweat\", \"drool\", \"deflated\", \"selecting\", \"dogs\", \"ethical\", \"wants\", \"master\", \"sense\", \"experiencing\", \"collapses\", \"larger\", \"blend\", \"isn\\\\'t\", \"experiment\", \"warmer\", \"trade\", \"sciatic\", \"no-hassle\", \"shocked\", \"reports\", \"fun\", \"slam\", \"importantly\\\\u2013\\\\u2013it\", \"boyfriends\", \"mood\", \"fellas\", \"crippling\", \"wives\", \"husbands\", \"saturday\", \"hour\", \"improved\", \"kids\", \"following\", \"stopped\", \"light\", \"worst\", \"love\", \"fit\", \"fast\", \"right\", \"8\", \"neck\", \"seems\", \"smells\", \"easy\", \"friends\", \"like\", \"box\", \"morning\", \"good\", \"recommend\", \"return\", \"one\", \"pain\", \"still\", \"firm\", \"back\", \"sleeping\", \"topper\", \"also\", \"get\", \"thing\", \"10\", \"feels\", \"us\", \"night\", \"give\", \"king\", \"price\", \"trial\", \"sleep\", \"week\", \"comfortable\", \"little\", \"foam\", \"product\", \"great\", \"first\", \"side\", \"x\", \"visitors\", \"700\", \"limbs\", \"\\\\u2014\", \"neighbor\", \"coworker\", \"10+\", \"leaf\", \"tendinitis\", \"loom\", \"wonderfully\", \"aside\", \"260lbs\", \"80\", \"40\", \"teenager\", \"washed\", \"2015\", \"fought\", \"breeze\", \"snore\", \"non\", \"slam\", \"coupled\", \"shut\", \"missed\", \"no-brainer\", \"convenience\", \"tissue\", \"contacting\", \"literally\", \"tempurpedic\", \"we\\\\\", \"bag\", \"turning\", \"advertised\", \"matress\", \"love\", \"foam\", \"got\", \"memory\", \"far\", \"couple\", \"spring\", \"almost\", \"taste\", \"never\", \"works\", \"could\", \"comfortable\", \"years\", \"great\", \"traditional\", \"sleeping\", \"easy\", \"hot\", \"used\", \"soft\", \"like\", \"time\", \"top\", \"sleep\", \"firm\", \"first\", \"better\", \"one\", \"night\", \"really\", \"topper\", \"return\", \"get\", \"back\", \"good\"], \"loglift\": [30.0, 29.0, 28.0, 27.0, 26.0, 25.0, 24.0, 23.0, 22.0, 21.0, 20.0, 19.0, 18.0, 17.0, 16.0, 15.0, 14.0, 13.0, 12.0, 11.0, 10.0, 9.0, 8.0, 7.0, 6.0, 5.0, 4.0, 3.0, 2.0, 1.0, 0.47010000000000002, 0.43190000000000001, 0.40379999999999999, 0.4007, 0.38240000000000002, 0.38169999999999998, 0.37359999999999999, 0.37209999999999999, 0.3659, 0.36580000000000001, 0.3634, 0.36130000000000001, 0.35759999999999997, 0.35349999999999998, 0.3513, 0.35110000000000002, 0.34860000000000002, 0.34710000000000002, 0.34399999999999997, 0.34229999999999999, 0.34150000000000003, 0.3407, 0.3392, 0.33800000000000002, 0.33400000000000002, 0.3337, 0.33179999999999998, 0.33090000000000003, 0.32969999999999999, 0.3291, 0.31819999999999998, 0.3206, 0.30009999999999998, 0.27550000000000002, 0.29110000000000003, 0.31879999999999997, 0.2717, 0.23799999999999999, 0.26929999999999998, 0.28489999999999999, 0.27900000000000003, 0.20910000000000001, 0.27100000000000002, 0.2359, 0.14990000000000001, 0.17530000000000001, 0.17749999999999999, 0.16719999999999999, 0.19400000000000001, 0.1492, 0.23810000000000001, 0.15570000000000001, 0.16450000000000001, 0.19489999999999999, 0.20979999999999999, 0.096000000000000002, 0.1797, 0.1207, 0.1714, 0.16639999999999999, 0.032800000000000003, 0.10829999999999999, 0.1573, 0.028899999999999999, 0.075300000000000006, 0.1111, 0.11310000000000001, 0.083799999999999999, 0.059200000000000003, 0.085900000000000004, -0.00029999999999999997, 0.0070000000000000001, -0.058900000000000001, 0.023900000000000001, -0.0562, 0.1139, -0.043799999999999999, 0.0144, -0.0067000000000000002, -0.062100000000000002, 0.69899999999999995, 0.69140000000000001, 0.68620000000000003, 0.68420000000000003, 0.68300000000000005, 0.67830000000000001, 0.67789999999999995, 0.6754, 0.67379999999999995, 0.6462, 0.64529999999999998, 0.64529999999999998, 0.63729999999999998, 0.63160000000000005, 0.63149999999999995, 0.623, 0.62170000000000003, 0.61780000000000002, 0.61699999999999999, 0.61560000000000004, 0.61460000000000004, 0.61329999999999996, 0.60360000000000003, 0.60219999999999996, 0.60029999999999994, 0.59460000000000002, 0.59440000000000004, 0.58979999999999999, 0.58640000000000003, 0.5847, 0.57240000000000002, 0.58099999999999996, 0.53790000000000004, 0.46250000000000002, 0.53249999999999997, 0.47210000000000002, 0.45950000000000002, 0.50790000000000002, 0.51600000000000001, 0.38190000000000002, 0.44529999999999997, 0.2429, 0.22650000000000001, 0.39660000000000001, 0.15909999999999999, 0.25840000000000002, 0.16930000000000001, 0.3528, 0.098599999999999993, 0.25650000000000001, 0.056599999999999998, 0.40150000000000002, 0.094, 0.25330000000000003, 0.12620000000000001, 0.098900000000000002, 0.060999999999999999, 0.0027000000000000001, 0.095100000000000004, 0.1123, 0.27560000000000001, 0.30209999999999998, 0.0055999999999999999, -0.019300000000000001, 0.10879999999999999, 0.1643, 0.0155, 0.21890000000000001, -0.031699999999999999, -0.042200000000000001, -0.0247, -0.21579999999999999, 0.1027, 0.0332, -0.027, -0.050599999999999999, -0.082100000000000006, -0.041500000000000002, 1.2064999999999999, 1.1738999999999999, 1.1738999999999999, 1.1563000000000001, 1.1488, 1.1315, 1.1047, 1.1001000000000001, 1.0986, 1.0778000000000001, 1.0585, 1.0370999999999999, 1.0167999999999999, 1.0127999999999999, 0.99360000000000004, 0.98550000000000004, 0.98450000000000004, 0.98409999999999997, 0.98109999999999997, 0.9708, 0.97019999999999995, 0.96299999999999997, 0.95940000000000003, 0.94920000000000004, 0.94799999999999995, 0.94799999999999995, 0.94720000000000004, 0.94630000000000003, 0.94579999999999997, 0.94530000000000003, 0.94240000000000002, 0.87880000000000003, 0.8962, 0.83309999999999995, 0.87719999999999998, 0.83789999999999998, 0.78420000000000001, 0.71879999999999999, 0.43980000000000002, 0.66080000000000005, 0.67130000000000001, 0.41970000000000002, 0.75170000000000003, 0.61009999999999998, 0.46000000000000002, 0.72509999999999997, 0.32679999999999998, 0.62250000000000005, 0.053999999999999999, 0.22270000000000001, 0.36549999999999999, 0.092200000000000004, 0.26769999999999999, 0.077299999999999994, 0.020199999999999999, 0.049799999999999997, 0.1232, -0.099900000000000003, -0.111, 0.0038, -0.049299999999999997, 0.15690000000000001, -0.057000000000000002, 0.18940000000000001, 0.25890000000000002, 0.2354, 0.0206, -0.1351, 0.062600000000000003, 0.20580000000000001, -0.053400000000000003, 0.19189999999999999, -0.21049999999999999, 0.1429, -0.1212, -0.1085, -0.19969999999999999, 0.0054999999999999997, -0.39389999999999997, -0.1646, -0.2298, 1.6568000000000001, 1.3904000000000001, 1.3537999999999999, 1.3438000000000001, 1.2919, 1.2802, 1.2303999999999999, 1.2149000000000001, 1.2143999999999999, 1.2134, 1.2133, 1.1559999999999999, 1.1535, 1.1467000000000001, 1.1400999999999999, 1.1392, 1.1345000000000001, 1.1315, 1.1301000000000001, 1.1222000000000001, 1.1168, 1.1051, 1.0978000000000001, 1.0960000000000001, 1.0912999999999999, 1.0606, 1.0442, 1.0412999999999999, 1.0333000000000001, 1.0321, 1.0314000000000001, 1.0095000000000001, 0.95299999999999996, 0.95099999999999996, 0.97819999999999996, 0.83520000000000005, 0.85229999999999995, 0.82689999999999997, 0.45610000000000001, 0.19309999999999999, 0.34870000000000001, 0.31, 0.29659999999999997, 0.36870000000000003, 0.36559999999999998, 0.44190000000000002, 0.74809999999999999, 0.39900000000000002, 0.62180000000000002, 0.1797, 0.040000000000000001, 0.26740000000000003, -0.1018, 0.53779999999999994, -0.040800000000000003, 0.19159999999999999, 0.2606, 0.1729, -0.0448, -0.22770000000000001, -0.048500000000000001, 0.039399999999999998, -0.24110000000000001, -0.28999999999999998, -0.094299999999999995, -0.0047000000000000002, -0.21410000000000001, -0.2361, -0.1492, -0.2487, -0.18659999999999999, -0.25430000000000003, -0.45789999999999997, -0.25419999999999998], \"Freq\": [69.0, 92.0, 104.0, 88.0, 106.0, 65.0, 84.0, 111.0, 93.0, 64.0, 84.0, 103.0, 60.0, 86.0, 91.0, 114.0, 95.0, 55.0, 90.0, 81.0, 52.0, 63.0, 65.0, 51.0, 84.0, 80.0, 51.0, 77.0, 69.0, 75.0, 21.783127387405848, 17.035922340581489, 13.150846908147896, 16.393064066106394, 14.623045313661889, 13.357281987645067, 18.628059580084205, 13.820778191735004, 10.90751927068113, 19.650821508227562, 10.447757759800053, 24.18173299862913, 13.192447720993233, 9.9820925034186789, 16.278302294952905, 22.030562457182977, 21.22849767325101, 9.7679102036174026, 12.180724488654842, 9.6443622920377265, 15.688683281939378, 9.5907484590201513, 9.8280967499630982, 12.513932710853268, 16.875101462970186, 10.077985805008266, 9.145327144535953, 11.410451253950228, 12.217323408317629, 29.78891036308406, 28.033070264324543, 23.786335910454756, 26.287860999175866, 46.333404048807807, 27.780178539085835, 16.029585439656653, 37.153609829242868, 51.646388017578026, 32.772852722252161, 24.110659028943054, 25.568728479180159, 53.527114058669724, 26.196429376139829, 35.779744991862522, 71.646866258838358, 58.26821938256505, 54.733881379513356, 58.683394560980823, 43.067658296160587, 52.654737476614372, 31.606199141298831, 48.891827794132389, 44.754804411936341, 38.484264477232486, 35.36887511547129, 58.445712747177559, 40.228719924046679, 50.756492125042193, 39.93026713798082, 40.165108809858289, 62.444057086331718, 48.274034017243828, 40.502618474222054, 59.525911336376303, 50.701842290120986, 45.608498528296977, 44.720297167242251, 46.464920466078105, 47.488995696819302, 45.113670910909853, 51.778635425768726, 50.934221813919152, 53.385564721940469, 48.006528138404001, 52.815663443542647, 42.484912162121596, 47.71062567973884, 45.55781742956448, 45.350163674937534, 45.125463579209523, 7.6475924911546569, 16.811731997422402, 7.4277619972075524, 8.3241186244919962, 8.3001439623392645, 7.208705024304332, 7.7917399312393165, 7.6490503352367671, 9.2049411351114152, 6.6520806445924423, 10.76650173112758, 7.173799306708589, 11.299752586038803, 6.3591129156904653, 11.505957850722913, 7.7005906181878965, 8.4542180705545267, 6.139486208751002, 6.4971115002567181, 11.949201927257949, 6.4007564906617134, 6.3582793908054933, 6.1137618176521888, 10.606880295153569, 5.8514975151432385, 7.7370690333961107, 13.871365991951638, 14.762605293905349, 6.311155694648666, 10.435653136787744, 14.85885651646031, 9.6846885138040406, 16.355478836722401, 22.47848252781224, 12.579982407755002, 19.759441140104048, 19.535149928867288, 13.826938919937925, 12.803758892592761, 22.252657169703848, 15.764052157351321, 33.678191070757073, 33.578755928894246, 18.20959941381734, 39.349957298094509, 28.537096875468762, 32.636057707156453, 19.3315915705635, 37.541080010557529, 24.26412707507243, 36.762980330696216, 16.373245555665164, 32.896860232940547, 23.049732900696529, 30.408853937830443, 31.843271417941477, 33.072579243861973, 36.398820862252684, 30.161449664767975, 28.639667635080318, 21.277356696738622, 19.745324739944746, 30.554751104629975, 31.287569725864369, 25.616767953647269, 23.894186032673865, 27.398248425552207, 21.989944848625136, 27.366920602132723, 26.994374444586111, 26.232670914692495, 29.855500594736981, 23.83551135977655, 24.273959105760436, 24.984634761558272, 24.738732687582541, 24.892405928072151, 23.860029339106656, 2.71727794066034, 2.3889692115429502, 2.4680723076985327, 2.3192861142516086, 3.1841186690973617, 2.5138416867013027, 3.2838072261397495, 2.9800108604531208, 2.7748780331490663, 2.3908879402780077, 2.0131338064505191, 2.7538273115941707, 2.4176058866206134, 3.0144522858937051, 1.9575303282936471, 2.6458744385086406, 1.8181508192863722, 1.818021221052166, 1.9552188428635233, 2.202253015238866, 3.6560866451577909, 3.1630213322013447, 1.9824256147746746, 1.7335240328730286, 1.7319415256913813, 1.7316676728148745, 1.7310690845050107, 1.7300851997881372, 1.7296176035748319, 1.7288921844613307, 2.2856730299259196, 3.3014181583357871, 2.5868061647591754, 3.4026411097718423, 2.4927047366392499, 2.968573526271101, 3.514895452012039, 4.3656003203391514, 10.188936437759299, 5.0313409319729114, 4.7893419966534765, 8.5756539884200489, 3.6094508177747979, 4.6882394161440315, 6.167443236863118, 3.5775528051153485, 7.261812407014661, 4.2860220103560485, 10.505046760955619, 7.8102756324260572, 6.2739438551265927, 9.0346696932953119, 7.0573299283661033, 8.7028801825758713, 9.0718831619167908, 8.295699688770064, 7.6037628678343872, 9.6115679879638538, 9.7012999443970998, 8.4716592233003301, 8.3064229772835212, 6.7791481203675712, 8.1182585489889103, 6.4464389663263413, 6.0286002956309295, 6.0483981770759003, 7.1044109137815852, 7.9533344342919561, 6.7510019720264207, 6.1317302359601538, 7.2361416384104773, 6.183293459380959, 7.9560392703379046, 6.3373276910034786, 7.1419197813863491, 7.0585474354449893, 7.1753690489647672, 6.497022489898991, 6.8554166689146836, 6.555806873613089, 6.5682249588176322, 1.714650090941177, 1.064629164448532, 1.021673846321717, 1.0120374572186057, 0.94847563197185247, 0.93736543366710978, 0.96036548642619179, 0.8848290739137189, 0.86975803099663929, 0.87287431468723353, 0.86948459510999387, 1.1450542369486028, 1.0944754563889942, 0.88674030679842952, 0.79982377730607901, 1.0195582184713561, 0.88094529556604861, 0.96195855126260732, 1.195131605893873, 0.85100621234595752, 1.4547814224680884, 0.95756885358072708, 0.92249783596734114, 0.93850506504263431, 0.82187108085247573, 0.76685479091085074, 0.89092664058744608, 0.7883532157816594, 0.99271074844292895, 0.72325957834598387, 0.82217339708723514, 1.4587764327399724, 2.8307385869889918, 1.6515621603041506, 1.1862892631891051, 2.1250496826689682, 1.7792084711278306, 1.8376291764418733, 4.27628881219949, 4.3885165767254257, 3.3413784283147114, 3.4856997862098731, 3.4165914036272578, 2.9657000562240201, 2.8880962157543295, 2.5189408818345287, 1.5846656896245399, 2.4470024918823832, 1.8161621683039864, 2.9633671275323983, 3.4648560415743144, 2.616585756339008, 3.7912752001863219, 1.9479363573267632, 3.3457836298429786, 2.6194492013648469, 2.4051751277865732, 2.5439482764846564, 2.9039752209787077, 3.2728340568053693, 2.8627934053192359, 2.6780440292109646, 3.1864341964937459, 3.2817333065899801, 2.9044406220984991, 2.7347327550978435, 2.9636739270873247, 2.9686993968216377, 2.8542513802583667, 2.8100660794117243, 2.7604493778825874, 2.7521244055395964, 2.831688718468568, 2.6385333815738896], \"Total\": [69.0, 92.0, 104.0, 88.0, 106.0, 65.0, 84.0, 111.0, 93.0, 64.0, 84.0, 103.0, 60.0, 86.0, 91.0, 114.0, 95.0, 55.0, 90.0, 81.0, 52.0, 63.0, 65.0, 51.0, 84.0, 80.0, 51.0, 77.0, 69.0, 75.0, 25.170850208356299, 20.452637444479567, 16.238558641321266, 20.303849448101722, 18.447132051657505, 16.861601796798077, 23.707512940872206, 17.614520910818918, 13.988282398089966, 25.204718032348964, 13.431918610712026, 31.155436591327888, 17.059773440770279, 12.961298174390286, 21.183625480672703, 28.673792825718589, 27.699372910931405, 12.765195112072584, 15.966648018337754, 12.663364323267187, 20.61632131759244, 12.613213033964868, 12.944643830548086, 16.502853822713803, 22.342551238161075, 13.348008310252542, 12.13571573412529, 15.154362203093051, 16.245891500899887, 39.634890953860506, 37.70649323393728, 31.919243228110705, 36.006243352056586, 65.042258867629116, 38.394281601711143, 21.548141174281167, 52.355388262361309, 75.268415159031022, 46.291148886176664, 33.529705856224368, 35.768136026659107, 80.297939407366357, 36.938606574525863, 52.254987482720288, 114.035355516441, 90.417203395323043, 84.74892706829678, 91.801431414043776, 65.59231886759035, 83.864724093247872, 46.058718551921302, 77.372034047475296, 70.198892527599298, 58.559705321302729, 53.024234548249346, 98.179846118642445, 62.148256695544049, 83.179261770497021, 62.202000458245365, 62.880530247042444, 111.73617924313824, 80.096314538063467, 63.989281087864711, 106.93558353617352, 86.949410964377819, 75.461586026318031, 73.850824495379783, 79.012391977731852, 82.76583323083409, 76.554523683731176, 95.773248500744302, 93.524530007553238, 104.70452555025899, 86.674105657859315, 103.30809420846882, 70.098919216992641, 92.17137153836957, 83.035940313821285, 84.417503693920764, 88.786177850294322, 11.701428221891291, 25.918973417271246, 11.511702728937721, 12.926708166925732, 12.904103023479703, 11.260542125637475, 12.175705967667117, 11.983433384891978, 14.443617473492115, 10.729619789163033, 17.38142562139809, 11.5820411803697, 18.389708671516711, 10.408419222855498, 18.834041992809954, 12.712549984360749, 13.974771210551681, 10.188662545823741, 10.790341802027331, 19.872734106798724, 10.655702208314509, 10.598725552393304, 10.290934233489477, 17.878141664630849, 9.8817184022736804, 13.141196589114076, 23.564020128706574, 25.19432390169424, 10.807109721254632, 17.901208955907268, 25.804041991007239, 16.674385199968498, 29.399369682574957, 43.572053012998559, 22.73519527058577, 37.932499996900084, 37.979440696969725, 25.610713445709155, 23.524993367893352, 46.751084737979859, 31.084869352379066, 81.309803772771062, 82.405948452832874, 37.698129437609168, 103.30809420846882, 67.834204809233611, 84.811033787448068, 41.813108649121013, 104.70452555025899, 57.790342212620409, 106.93558353617352, 33.732776627231956, 92.17137153836957, 55.071755711144114, 82.506787406301413, 88.786177850294322, 95.773248500744302, 111.73617924313824, 84.417503693920764, 78.794367216937729, 49.716584746319697, 44.931503578297153, 93.524530007553238, 98.179846118642445, 70.721043784882241, 62.407690747358807, 83.035940313821285, 54.377363750169103, 86.949410964377819, 86.674105657859315, 82.76583323083409, 114.035355516441, 66.209619610655935, 72.276126723008488, 79.012391977731852, 80.096314538063467, 83.179261770497021, 76.554523683731176, 8.554313989619132, 7.7694994519926821, 8.0270002555317319, 7.6770380334994615, 10.618737464638574, 8.5304850829954582, 11.445768276006005, 10.435008642741597, 9.7303975523317146, 8.5608409192211532, 7.3485129442623141, 10.269369805297149, 9.200992327794145, 11.518362339505421, 7.6249332137650061, 10.389619799822366, 7.1465909341014502, 7.1485895338431424, 7.7116865525733038, 8.7751406014948845, 14.577031739448882, 12.703151196651911, 7.9905321629076225, 7.0585362779977157, 7.0604314877419849, 7.0594650592050145, 7.0626549699940009, 7.0648053359203731, 7.0665169531415248, 7.0673833533890651, 9.3701280683753403, 14.423467705800407, 11.105789271647676, 15.560312668250692, 10.907401296267398, 13.510666378289935, 16.880206747351451, 22.382606246254589, 69.045091184955069, 27.335701222732883, 25.748535099846809, 59.29648566438037, 17.906156388300147, 26.795214664995328, 40.957393704182579, 18.226087682238937, 55.099141767975148, 24.195103150284698, 104.70452555025899, 65.762126401733909, 45.796670807573705, 86.674105657859315, 56.808758148831167, 84.74892706829678, 93.524530007553238, 83.035940313821285, 70.721043784882241, 111.73617924313824, 114.035355516441, 88.786177850294322, 91.801431414043776, 60.964140877839526, 90.417203395323043, 56.116248088061838, 48.953923998298265, 50.282424350933873, 73.214350500349326, 95.773248500744302, 66.709228355737011, 52.507741951408221, 80.297939407366357, 53.692239084577807, 103.30809420846882, 57.790342212620409, 84.811033787448068, 82.76583323083409, 92.17137153836957, 67.97552745855451, 106.93558353617352, 81.309803772771062, 86.949410964377819, 8.3324855272507818, 6.753109157946481, 6.7220643755791674, 6.7253016178491913, 6.6388838653790483, 6.6381335439239981, 7.1485718076094757, 6.6893699905990278, 6.5783436172899306, 6.6085562052665541, 6.5838187697994766, 9.1812568546900852, 8.7980350736744821, 7.1768556972743607, 6.5164162479334982, 8.3134688995918378, 7.2173250004307317, 7.9047865055811686, 9.834668189825269, 7.0583311108338105, 12.131062056212329, 8.0787430102569697, 7.8399490574310846, 7.9905321629076225, 7.0309000614169488, 6.7647617760051046, 7.9890253787563932, 7.0895170132079572, 8.9990268377535543, 6.5644132148513279, 7.4672347187797667, 13.542536483486909, 27.807086613945824, 16.256194767288576, 11.363278249677705, 23.484127858878566, 19.329339568820249, 20.477583962501299, 69.045091184955069, 92.17137153836957, 60.063593261681945, 65.130129792363533, 64.703895986257422, 52.254987482720288, 51.048328584373657, 41.25259656598795, 19.105529654582558, 41.829314848087776, 24.844086283681964, 63.079292779611457, 84.811033787448068, 51.019152522792297, 106.93558353617352, 28.982812175015138, 88.786177850294322, 55.099141767975148, 47.218232341879123, 54.51836860824109, 77.372034047475296, 104.70452555025899, 76.554523683731176, 65.59231886759035, 103.30809420846882, 111.73617924313824, 81.309803772771062, 69.997623383952131, 93.524530007553238, 95.773248500744302, 84.417503693920764, 91.801431414043776, 84.74892706829678, 90.417203395323043, 114.035355516441, 86.674105657859315], \"logprob\": [30.0, 29.0, 28.0, 27.0, 26.0, 25.0, 24.0, 23.0, 22.0, 21.0, 20.0, 19.0, 18.0, 17.0, 16.0, 15.0, 14.0, 13.0, 12.0, 11.0, 10.0, 9.0, 8.0, 7.0, 6.0, 5.0, 4.0, 3.0, 2.0, 1.0, -7.1394000000000002, -7.3852000000000002, -7.6440000000000001, -7.4236000000000004, -7.5378999999999996, -7.6284000000000001, -7.2957999999999998, -7.5942999999999996, -7.8310000000000004, -7.2423999999999999, -7.8741000000000003, -7.0349000000000004, -7.6409000000000002, -7.9196999999999997, -7.4306999999999999, -7.1280999999999999, -7.1651999999999996, -7.9413999999999998, -7.7206000000000001, -7.9541000000000004, -7.4676, -7.9596999999999998, -7.9352999999999998, -7.6936999999999998, -7.3947000000000003, -7.9100999999999999, -8.0073000000000008, -7.7859999999999996, -7.7176, -6.8263999999999996, -6.8871000000000002, -7.0514000000000001, -6.9513999999999996, -6.3845999999999998, -6.8962000000000003, -7.4461000000000004, -6.6054000000000004, -6.2760999999999996, -6.7309000000000001, -7.0377999999999998, -6.9790999999999999, -6.2403000000000004, -6.9549000000000003, -6.6430999999999996, -5.9488000000000003, -6.1554000000000002, -6.218, -6.1482999999999999, -6.4577, -6.2567000000000004, -6.7671000000000001, -6.3308999999999997, -6.4192999999999998, -6.5702999999999996, -6.6547000000000001, -6.1524000000000001, -6.5259, -6.2934999999999999, -6.5334000000000003, -6.5274999999999999, -6.0861999999999998, -6.3436000000000003, -6.5190999999999999, -6.1341000000000001, -6.2945000000000002, -6.4004000000000003, -6.4200999999999997, -6.3818000000000001, -6.3600000000000003, -6.4112999999999998, -6.2735000000000003, -6.29, -6.2430000000000003, -6.3491999999999997, -6.2537000000000003, -6.4714, -6.3552999999999997, -6.4015000000000004, -6.4061000000000003, -6.4111000000000002, -7.6764999999999999, -6.8887999999999998, -7.7055999999999996, -7.5917000000000003, -7.5945999999999998, -7.7355999999999998, -7.6577999999999999, -7.6763000000000003, -7.4911000000000003, -7.8159000000000001, -7.3343999999999996, -7.7404000000000002, -7.2861000000000002, -7.8609999999999998, -7.2679999999999998, -7.6696, -7.5762, -7.8960999999999997, -7.8395000000000001, -7.2302, -7.8544999999999998, -7.8611000000000004, -7.9002999999999997, -7.3494000000000002, -7.9442000000000004, -7.6647999999999996, -7.0810000000000004, -7.0187999999999997, -7.8685999999999998, -7.3655999999999997, -7.0122999999999998, -7.4402999999999997, -6.9162999999999997, -6.5983000000000001, -7.1787999999999998, -6.7271999999999998, -6.7386999999999997, -7.0842999999999998, -7.1611000000000002, -6.6083999999999996, -6.9531000000000001, -6.194, -6.1970000000000001, -6.8089000000000004, -6.0384000000000002, -6.3597000000000001, -6.2255000000000003, -6.7491000000000003, -6.0853999999999999, -6.5218999999999996, -6.1063999999999998, -6.9151999999999996, -6.2175000000000002, -6.5731999999999999, -6.2961, -6.25, -6.2122000000000002, -6.1162999999999998, -6.3042999999999996, -6.3560999999999996, -6.6532, -6.7279999999999998, -6.2914000000000003, -6.2675999999999998, -6.4676, -6.5372000000000003, -6.4004000000000003, -6.6203000000000003, -6.4015000000000004, -6.4151999999999996, -6.4439000000000002, -6.3144999999999998, -6.5396999999999998, -6.5214999999999996, -6.4926000000000004, -6.5025000000000004, -6.4962999999999997, -6.5387000000000004, -7.4823000000000004, -7.6109999999999998, -7.5785, -7.6406000000000001, -7.3236999999999997, -7.5601000000000003, -7.2929000000000004, -7.3899999999999997, -7.4612999999999996, -7.6101999999999999, -7.7821999999999996, -7.4688999999999997, -7.5991, -7.3784999999999998, -7.8102, -7.5088999999999997, -7.8841000000000001, -7.8841000000000001, -7.8113999999999999, -7.6924000000000001, -7.1855000000000002, -7.3304, -7.7976000000000001, -7.9317000000000002, -7.9325999999999999, -7.9328000000000003, -7.9330999999999996, -7.9337, -7.9340000000000002, -7.9344000000000001, -7.6551999999999998, -7.2874999999999996, -7.5315000000000003, -7.2572999999999999, -7.5685000000000002, -7.3937999999999997, -7.2248999999999999, -7.0080999999999998, -6.1605999999999996, -6.8662000000000001, -6.9154999999999998, -6.3330000000000002, -7.1982999999999997, -6.9367999999999999, -6.6626000000000003, -7.2072000000000003, -6.4992999999999999, -7.0265000000000004, -6.1299999999999999, -6.4264000000000001, -6.6455000000000002, -6.2808000000000002, -6.5278, -6.3182, -6.2766999999999999, -6.3662000000000001, -6.4531999999999998, -6.2188999999999997, -6.2096, -6.3452000000000002, -6.3648999999999996, -6.5679999999999996, -6.3878000000000004, -6.6184000000000003, -6.6853999999999996, -6.6821000000000002, -6.5212000000000003, -6.4082999999999997, -6.5721999999999996, -6.6684000000000001, -6.5027999999999997, -6.6600000000000001, -6.4080000000000004, -6.6353999999999997, -6.5159000000000002, -6.5275999999999996, -6.5111999999999997, -6.6105, -6.5568, -6.6014999999999997, -6.5995999999999997, -7.0582000000000003, -7.5347999999999997, -7.5759999999999996, -7.5854999999999997, -7.6502999999999997, -7.6620999999999997, -7.6379000000000001, -7.7198000000000002, -7.7370000000000001, -7.7333999999999996, -7.7373000000000003, -7.4619999999999997, -7.5072000000000001, -7.7176, -7.8208000000000002, -7.5781000000000001, -7.7241999999999997, -7.6361999999999997, -7.4192, -7.7587999999999999, -7.2225999999999999, -7.6407999999999996, -7.6780999999999997, -7.6608999999999998, -7.7935999999999996, -7.8628999999999998, -7.7129000000000003, -7.8352000000000004, -7.6048, -7.9214000000000002, -7.7931999999999997, -7.2198000000000002, -6.5568999999999997, -7.0956999999999999, -7.4265999999999996, -6.8436000000000003, -7.0213000000000001, -6.9889999999999999, -6.1444000000000001, -6.1184000000000003, -6.3910999999999998, -6.3487999999999998, -6.3688000000000002, -6.5103, -6.5368000000000004, -6.6736000000000004, -7.1371000000000002, -6.7026000000000003, -7.0007000000000001, -6.5110999999999999, -6.3548, -6.6356000000000002, -6.2647000000000004, -6.9306999999999999, -6.3897000000000004, -6.6345000000000001, -6.7198000000000002, -6.6637000000000004, -6.5313999999999997, -6.4118000000000004, -6.5456000000000003, -6.6124000000000001, -6.4385000000000003, -6.4090999999999996, -6.5312000000000001, -6.5914000000000001, -6.5110000000000001, -6.5092999999999996, -6.5486000000000004, -6.5641999999999996, -6.5819999999999999, -6.5850999999999997, -6.5566000000000004, -6.6272000000000002]}};\n",
       "\n",
       "function LDAvis_load_lib(url, callback){\n",
       "  var s = document.createElement('script');\n",
       "  s.src = url;\n",
       "  s.async = true;\n",
       "  s.onreadystatechange = s.onload = callback;\n",
       "  s.onerror = function(){console.warn(\"failed to load library \" + url);};\n",
       "  document.getElementsByTagName(\"head\")[0].appendChild(s);\n",
       "}\n",
       "\n",
       "if(typeof(LDAvis) !== \"undefined\"){\n",
       "   // already loaded: just create the visualization\n",
       "   !function(LDAvis){\n",
       "       new LDAvis(\"#\" + \"ldavis_el126651430189605023544049\", ldavis_el126651430189605023544049_data);\n",
       "   }(LDAvis);\n",
       "}else if(typeof define === \"function\" && define.amd){\n",
       "   // require.js is available: use it to load d3/LDAvis\n",
       "   require.config({paths: {d3: \"https://cdnjs.cloudflare.com/ajax/libs/d3/3.5.5/d3.min\"}});\n",
       "   require([\"d3\"], function(d3){\n",
       "      window.d3 = d3;\n",
       "      LDAvis_load_lib(\"https://cdn.rawgit.com/bmabey/pyLDAvis/files/ldavis.v1.0.0.js\", function(){\n",
       "        new LDAvis(\"#\" + \"ldavis_el126651430189605023544049\", ldavis_el126651430189605023544049_data);\n",
       "      });\n",
       "    });\n",
       "}else{\n",
       "    // require.js not available: dynamically load d3 & LDAvis\n",
       "    LDAvis_load_lib(\"https://cdnjs.cloudflare.com/ajax/libs/d3/3.5.5/d3.min.js\", function(){\n",
       "         LDAvis_load_lib(\"https://cdn.rawgit.com/bmabey/pyLDAvis/files/ldavis.v1.0.0.js\", function(){\n",
       "                 new LDAvis(\"#\" + \"ldavis_el126651430189605023544049\", ldavis_el126651430189605023544049_data);\n",
       "            })\n",
       "         });\n",
       "}\n",
       "</script>"
      ],
      "text/plain": [
       "<IPython.core.display.HTML object>"
      ]
     },
     "execution_count": 188,
     "metadata": {},
     "output_type": "execute_result"
    }
   ],
   "source": [
    "vis_data = gensimvis.prepare(lda, corpus, dictionary)\n",
    "pyLDAvis.display(vis_data)"
   ]
  },
  {
   "cell_type": "code",
   "execution_count": 189,
   "metadata": {
    "collapsed": true
   },
   "outputs": [],
   "source": [
    "#pyLDAvis.save_html(vis_data, 'TN_Topic_Modeling_vis.html')"
   ]
  },
  {
   "cell_type": "code",
   "execution_count": null,
   "metadata": {
    "collapsed": true
   },
   "outputs": [],
   "source": []
  }
 ],
 "metadata": {
  "anaconda-cloud": {},
  "kernelspec": {
   "display_name": "Python [Root]",
   "language": "python",
   "name": "Python [Root]"
  },
  "language_info": {
   "codemirror_mode": {
    "name": "ipython",
    "version": 2
   },
   "file_extension": ".py",
   "mimetype": "text/x-python",
   "name": "python",
   "nbconvert_exporter": "python",
   "pygments_lexer": "ipython2",
   "version": "2.7.11"
  }
 },
 "nbformat": 4,
 "nbformat_minor": 0
}
